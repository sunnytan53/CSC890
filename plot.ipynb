{
 "cells": [
  {
   "cell_type": "code",
   "execution_count": 4,
   "metadata": {},
   "outputs": [],
   "source": [
    "import matplotlib.pyplot as plt\n",
    "import torch"
   ]
  },
  {
   "cell_type": "code",
   "execution_count": 25,
   "metadata": {},
   "outputs": [
    {
     "name": "stdout",
     "output_type": "stream",
     "text": [
      "241.49986267089844\n"
     ]
    }
   ],
   "source": [
    "d = torch.load(\"/Users/sunny/Downloads/10\", map_location=torch.device('cpu'))\n",
    "print(d[\"test_loss\"][1][-1])\n",
    "# for l, o in zip(d[\"test_loss\"], d[\"optimizers\"]):\n",
    "#     plt.plot(l, label=o)\n",
    "# for i in range(1,20):\n",
    "#     plt.axvline(x=i*5, color=\"pink\")\n",
    "# plt.legend()"
   ]
  }
 ],
 "metadata": {
  "kernelspec": {
   "display_name": "Python 3.10.6 ('csc890')",
   "language": "python",
   "name": "python3"
  },
  "language_info": {
   "codemirror_mode": {
    "name": "ipython",
    "version": 3
   },
   "file_extension": ".py",
   "mimetype": "text/x-python",
   "name": "python",
   "nbconvert_exporter": "python",
   "pygments_lexer": "ipython3",
   "version": "3.10.6"
  },
  "orig_nbformat": 4,
  "vscode": {
   "interpreter": {
    "hash": "4c2c482148c4ed1ff5fae1ed8ca581c9c4ea53d412d31419121a21972f6b5456"
   }
  }
 },
 "nbformat": 4,
 "nbformat_minor": 2
}
