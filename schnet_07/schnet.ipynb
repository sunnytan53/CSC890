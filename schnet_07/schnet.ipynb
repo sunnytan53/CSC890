{
 "cells": [
  {
   "cell_type": "markdown",
   "metadata": {},
   "source": [
    "# Lec 07: Neural Networks, Gradient Regression, and Quantum Chemistry"
   ]
  },
  {
   "cell_type": "code",
   "execution_count": 1,
   "metadata": {},
   "outputs": [],
   "source": [
    "import matplotlib.pyplot as plt\n",
    "from functools import partial"
   ]
  },
  {
   "cell_type": "markdown",
   "metadata": {},
   "source": [
    "## Goal\n",
    "\n",
    "1. Introduce **(artificial) neural networks** (NN) and the concept of **deep learning**.\n",
    "2. Use NNs to perform gradient regression.\n",
    "3. Connect the concepts we have seen earlier in this class in a walkthrough of a **research paper**. This paper introduces a NN for quantum chemistry called Schnet."
   ]
  },
  {
   "cell_type": "markdown",
   "metadata": {},
   "source": [
    "## Neural Networks\n",
    "\n",
    "1. We'll introduce popular neural network library called `PyTorch`.\n",
    "2. We'll show how to build a simple neural network with PyTorch.\n",
    "3. We'll connect it to the concepts we've seen before."
   ]
  },
  {
   "cell_type": "code",
   "execution_count": 2,
   "metadata": {},
   "outputs": [],
   "source": [
    "# Libraries that we have seen before\n",
    "import numpy as np\n",
    "import jax\n",
    "import jax.numpy as jnp \n",
    "\n",
    "# PyTorch: popular neural network library\n",
    "import torch"
   ]
  },
  {
   "cell_type": "markdown",
   "metadata": {},
   "source": [
    "### Tensors"
   ]
  },
  {
   "cell_type": "code",
   "execution_count": 3,
   "metadata": {},
   "outputs": [
    {
     "name": "stdout",
     "output_type": "stream",
     "text": [
      "[1. 2. 3.]\n"
     ]
    },
    {
     "name": "stderr",
     "output_type": "stream",
     "text": [
      "2022-11-01 17:54:37.574993: W external/org_tensorflow/tensorflow/compiler/xla/service/platform_util.cc:193] unable to create StreamExecutor for CUDA:1: failed initializing StreamExecutor for CUDA device ordinal 1: INTERNAL: failed call to cuDevicePrimaryCtxRetain: CUDA_ERROR_OUT_OF_MEMORY: out of memory; total memory reported: 25441796096\n"
     ]
    },
    {
     "name": "stdout",
     "output_type": "stream",
     "text": [
      "[1. 2. 3.]\n",
      "tensor([1., 2., 3.])\n"
     ]
    }
   ],
   "source": [
    "# Declare a vector of length 3\n",
    "print(np.array([1., 2., 3.]))\n",
    "print(jnp.array([1., 2., 3.]))\n",
    "print(torch.tensor([1., 2., 3.]))"
   ]
  },
  {
   "cell_type": "markdown",
   "metadata": {},
   "source": [
    "Corresponding vector\n",
    "$$\n",
    "\\begin{pmatrix}\n",
    "1 \\\\\n",
    "2 \\\\\n",
    "3\n",
    "\\end{pmatrix}\n",
    "$$"
   ]
  },
  {
   "cell_type": "code",
   "execution_count": 4,
   "metadata": {},
   "outputs": [
    {
     "name": "stdout",
     "output_type": "stream",
     "text": [
      "[[1. 2. 3.]\n",
      " [4. 5. 6.]]\n",
      "[[1. 2. 3.]\n",
      " [4. 5. 6.]]\n",
      "tensor([[1., 2., 3.],\n",
      "        [4., 5., 6.]])\n"
     ]
    }
   ],
   "source": [
    "# Declare a matrix of length 2x3\n",
    "print(np.array([[1., 2., 3.], [4., 5., 6.]]))\n",
    "print(jnp.array([[1., 2., 3.], [4., 5., 6.]]))\n",
    "print(torch.tensor([[1., 2., 3.], [4., 5., 6.]]))"
   ]
  },
  {
   "cell_type": "markdown",
   "metadata": {},
   "source": [
    "Corresponding matrix\n",
    "$$\n",
    "\\begin{pmatrix}\n",
    "1 & 2 & 3 \\\\\n",
    "4 & 5 & 6\n",
    "\\end{pmatrix}\n",
    "$$"
   ]
  },
  {
   "cell_type": "code",
   "execution_count": 5,
   "metadata": {},
   "outputs": [
    {
     "data": {
      "text/plain": [
       "tensor([[1., 2., 3.],\n",
       "        [4., 5., 6.]], dtype=torch.float64)"
      ]
     },
     "execution_count": 5,
     "metadata": {},
     "output_type": "execute_result"
    }
   ],
   "source": [
    "# Converting a numpy array to a torch tensor\n",
    "torch.tensor(np.array([[1., 2., 3.], [4., 5., 6.]]))"
   ]
  },
  {
   "cell_type": "markdown",
   "metadata": {},
   "source": [
    "### Basic Operations"
   ]
  },
  {
   "cell_type": "code",
   "execution_count": 6,
   "metadata": {},
   "outputs": [
    {
     "data": {
      "text/plain": [
       "(tensor([[1., 2., 3.],\n",
       "         [4., 5., 6.]]),\n",
       " tensor([[1., 4.],\n",
       "         [2., 5.],\n",
       "         [3., 6.]]))"
      ]
     },
     "execution_count": 6,
     "metadata": {},
     "output_type": "execute_result"
    }
   ],
   "source": [
    "# Stacking\n",
    "A_1 = torch.tensor([1., 2., 3.])\n",
    "A_2 = torch.tensor([4., 5., 6.])\n",
    "torch.stack([A_1, A_2]), torch.stack([A_1, A_2], dim=1)"
   ]
  },
  {
   "cell_type": "code",
   "execution_count": 7,
   "metadata": {},
   "outputs": [
    {
     "data": {
      "text/plain": [
       "tensor([3., 3., 3.])"
      ]
     },
     "execution_count": 7,
     "metadata": {},
     "output_type": "execute_result"
    }
   ],
   "source": [
    "# Element-wise operations\n",
    "x = torch.tensor([1., 1., 1.]) \n",
    "y = torch.tensor([2., 2., 2.]) \n",
    "x + y"
   ]
  },
  {
   "cell_type": "markdown",
   "metadata": {},
   "source": [
    "Corresponding operation\n",
    "$$\n",
    "\\begin{pmatrix}\n",
    "1 \\\\\n",
    "1 \\\\\n",
    "1 \\\\\n",
    "\\end{pmatrix} + \n",
    "\\begin{pmatrix}\n",
    "2 \\\\\n",
    "2 \\\\\n",
    "2 \\\\\n",
    "\\end{pmatrix} = \n",
    "\\begin{pmatrix}\n",
    "3 \\\\\n",
    "3 \\\\\n",
    "3 \\\\\n",
    "\\end{pmatrix}\n",
    "$$"
   ]
  },
  {
   "cell_type": "code",
   "execution_count": 8,
   "metadata": {},
   "outputs": [
    {
     "data": {
      "text/plain": [
       "tensor([[1., 2., 3.],\n",
       "        [4., 5., 6.]])"
      ]
     },
     "execution_count": 8,
     "metadata": {},
     "output_type": "execute_result"
    }
   ],
   "source": [
    "A = torch.tensor([[1., 2., 3.], [4., 5., 6.]])\n",
    "B = torch.ones(2, 3)\n",
    "A * B"
   ]
  },
  {
   "cell_type": "markdown",
   "metadata": {},
   "source": [
    "$$\n",
    "\\begin{pmatrix}\n",
    "1 & 2 & 3 \\\\\n",
    "4 & 5 & 6\n",
    "\\end{pmatrix} \\odot\n",
    "\\begin{pmatrix}\n",
    "1 & 1 & 1 \\\\\n",
    "1 & 1 & 1\n",
    "\\end{pmatrix} = \n",
    "\\begin{pmatrix}\n",
    "1 & 2 & 3\\\\\n",
    "4 & 5 & 6\n",
    "\\end{pmatrix}\n",
    "$$"
   ]
  },
  {
   "cell_type": "code",
   "execution_count": 9,
   "metadata": {},
   "outputs": [
    {
     "data": {
      "text/plain": [
       "tensor([ 6., 15.])"
      ]
     },
     "execution_count": 9,
     "metadata": {},
     "output_type": "execute_result"
    }
   ],
   "source": [
    "# Matrix multiplication\n",
    "A = torch.tensor([[1., 2., 3.], [4., 5., 6.]])\n",
    "x = torch.tensor([1., 1., 1.]) \n",
    "A @ x"
   ]
  },
  {
   "cell_type": "markdown",
   "metadata": {},
   "source": [
    "$$\n",
    "\\begin{pmatrix}\n",
    "1 & 2 & 3\\\\\n",
    "4 & 5 & 6\n",
    "\\end{pmatrix}\n",
    "\\begin{pmatrix}\n",
    "1 \\\\\n",
    "1 \\\\\n",
    "1 \\\\\n",
    "\\end{pmatrix}\n",
    "=\n",
    "\\begin{pmatrix}\n",
    "6 \\\\\n",
    "15 \\\\\n",
    "\\end{pmatrix}\n",
    "$$"
   ]
  },
  {
   "cell_type": "markdown",
   "metadata": {},
   "source": [
    "### Summary\n",
    "\n",
    "1. Like Numpy and Jax, PyTorch gives us operations for manipulating vectors and matrices.\n",
    "2. Like Jax, PyTorch will also give us the ability to perform automatic differentiation.\n",
    "3. We'll illustrate with linear regression first."
   ]
  },
  {
   "cell_type": "markdown",
   "metadata": {},
   "source": [
    "### Linear Regression in PyTorch from scratch\n",
    "\n",
    "First let's recall our 3 point dataset."
   ]
  },
  {
   "cell_type": "code",
   "execution_count": 10,
   "metadata": {},
   "outputs": [
    {
     "data": {
      "text/plain": [
       "[<matplotlib.lines.Line2D at 0x7fa6fc0dde80>]"
      ]
     },
     "execution_count": 10,
     "metadata": {},
     "output_type": "execute_result"
    },
    {
     "data": {
      "image/png": "[encoded data removed]",
      "text/plain": [
       "<Figure size 640x480 with 1 Axes>"
      ]
     },
     "metadata": {},
     "output_type": "display_data"
    }
   ],
   "source": [
    "x1 = [0.3]                          # each point has dimension 1\n",
    "x2 = [-0.5]               \n",
    "x3 = [.1]                \n",
    "y = torch.tensor([0.2, -.1, 1.3])   # target values\n",
    "X = torch.tensor([x1, x2, x3])      # each row is one input\n",
    "\n",
    "plt.plot(X[:,0], y, marker='o', linestyle='none')"
   ]
  },
  {
   "cell_type": "code",
   "execution_count": 11,
   "metadata": {},
   "outputs": [],
   "source": [
    "# Compare with numpy version \n",
    "#\n",
    "# def fit_regression(X, y):\n",
    "#     A = np.concatenate([X, np.ones((X.shape[0],1))], axis=1)\n",
    "#     return np.linalg.solve(A.transpose() @ A, A.transpose() @ y)\n",
    "\n",
    "def fit_regression(X: torch.tensor, y: torch.tensor) -> torch.tensor:\n",
    "    A = torch.cat([X, torch.ones((X.shape[0],1))], dim=1)\n",
    "    return torch.linalg.solve(torch.transpose(A, 0, 1) @ A, torch.transpose(A, 0, 1) @ y)"
   ]
  },
  {
   "cell_type": "code",
   "execution_count": 12,
   "metadata": {},
   "outputs": [
    {
     "data": {
      "text/plain": [
       "tensor([0.8269, 0.4942])"
      ]
     },
     "execution_count": 12,
     "metadata": {},
     "output_type": "execute_result"
    }
   ],
   "source": [
    "# Solve for weights\n",
    "weights = fit_regression(X, y)\n",
    "weights"
   ]
  },
  {
   "cell_type": "code",
   "execution_count": 13,
   "metadata": {},
   "outputs": [],
   "source": [
    "# Perform predictions\n",
    "def prediction(weights, x):\n",
    "    return x.t() @ weights[:-1] + weights[-1]"
   ]
  },
  {
   "cell_type": "code",
   "execution_count": 14,
   "metadata": {},
   "outputs": [
    {
     "name": "stderr",
     "output_type": "stream",
     "text": [
      "/tmp/ipykernel_2067078/2816639551.py:3: UserWarning: Not providing a value for linspace's steps is deprecated and will throw a runtime error in a future release. This warning will appear only once per process. (Triggered internally at  /opt/conda/conda-bld/pytorch_1639180585800/work/aten/src/ATen/native/RangeFactories.cpp:23.)\n",
      "  plt.plot(torch.linspace(-1.0, 1.0), [f_hat(torch.tensor([x])) for x in torch.linspace(-1.0, 1.0)], label='Predictions')\n"
     ]
    },
    {
     "data": {
      "text/plain": [
       "<matplotlib.legend.Legend at 0x7fa6f47a1130>"
      ]
     },
     "execution_count": 14,
     "metadata": {},
     "output_type": "execute_result"
    },
    {
     "data": {
      "image/png": "[encoded data removed]",
      "text/plain": [
       "<Figure size 640x480 with 1 Axes>"
      ]
     },
     "metadata": {},
     "output_type": "display_data"
    }
   ],
   "source": [
    "# Plot predictions\n",
    "f_hat = partial(prediction, weights)\n",
    "plt.plot(torch.linspace(-1.0, 1.0), [f_hat(torch.tensor([x])) for x in torch.linspace(-1.0, 1.0)], label='Predictions')\n",
    "plt.plot(X, y, marker='o', linestyle='None', label='Dataset')\n",
    "plt.legend()"
   ]
  },
  {
   "cell_type": "markdown",
   "metadata": {},
   "source": [
    "### What about using gradient descent?"
   ]
  },
  {
   "cell_type": "code",
   "execution_count": 15,
   "metadata": {},
   "outputs": [],
   "source": [
    "# Create the model. It's simply the prediction function.\n",
    "def model(weights: torch.tensor, bias: torch.tensor, x: torch.tensor) -> torch.tensor:\n",
    "    return x @ weights.t() + bias"
   ]
  },
  {
   "cell_type": "code",
   "execution_count": 16,
   "metadata": {},
   "outputs": [],
   "source": [
    "# The traditional mean-squared error loss\n",
    "def mse_loss(model, weights: torch.tensor, bias: torch.tensor, X: torch.tensor, y: torch.tensor):\n",
    "    pred_y = model(weights, bias, X)\n",
    "    loss = ((pred_y - y.reshape(-1, 1))**2).sum()\n",
    "    # tmp = torch.tensor([0.0], requires_grad=True)\n",
    "    # for i, x in enumerate(X):\n",
    "    #     tmp = tmp + (model(weights, x) - y[i]) ** 2\n",
    "    # return tmp\n",
    "    return loss"
   ]
  },
  {
   "cell_type": "code",
   "execution_count": 17,
   "metadata": {},
   "outputs": [],
   "source": [
    "def sgd(model, X: torch.tensor, y: torch.tensor, lr=1e-4, niter=50):\n",
    "    weights = torch.randn(1, 1, requires_grad=True)\n",
    "    bias = torch.randn(1, requires_grad=True)\n",
    "    for i in range(niter):\n",
    "        # 1. Compute the loss\n",
    "        loss = mse_loss(model, weights, bias, X, y)\n",
    "        # 2. Tell PyTorch to keep the gradients of all intermediate values\n",
    "        weights.retain_grad()\n",
    "        bias.retain_grad()\n",
    "        # 3. Tell PyTorch to compute the gradient with reverse-mode AD\n",
    "        loss.backward()\n",
    "        # 4. Perform the optimization step.\n",
    "        weights = weights - lr * weights.grad\n",
    "        bias = bias - lr * bias.grad\n",
    "    return weights, bias"
   ]
  },
  {
   "cell_type": "code",
   "execution_count": 18,
   "metadata": {},
   "outputs": [
    {
     "data": {
      "text/plain": [
       "(tensor([[0.7641]], grad_fn=<SubBackward0>),\n",
       " tensor([0.4919], grad_fn=<SubBackward0>))"
      ]
     },
     "execution_count": 18,
     "metadata": {},
     "output_type": "execute_result"
    }
   ],
   "source": [
    "weights, bias = sgd(model, X, y, lr=1e-1)\n",
    "weights, bias"
   ]
  },
  {
   "cell_type": "code",
   "execution_count": 19,
   "metadata": {},
   "outputs": [
    {
     "name": "stderr",
     "output_type": "stream",
     "text": [
      "/home/dehuang/anaconda3/envs/ocp-models/lib/python3.9/site-packages/numpy/core/shape_base.py:65: FutureWarning: The input object of type 'Tensor' is an array-like implementing one of the corresponding protocols (`__array__`, `__array_interface__` or `__array_struct__`); but not a sequence (or 0-D). In the future, this object will be coerced as if it was first converted using `np.array(obj)`. To retain the old behaviour, you have to either modify the type 'Tensor', or assign to an empty array created with `np.empty(correct_shape, dtype=object)`.\n",
      "  ary = asanyarray(ary)\n",
      "/home/dehuang/anaconda3/envs/ocp-models/lib/python3.9/site-packages/numpy/core/shape_base.py:65: VisibleDeprecationWarning: Creating an ndarray from ragged nested sequences (which is a list-or-tuple of lists-or-tuples-or ndarrays with different lengths or shapes) is deprecated. If you meant to do this, you must specify 'dtype=object' when creating the ndarray.\n",
      "  ary = asanyarray(ary)\n"
     ]
    },
    {
     "data": {
      "text/plain": [
       "<matplotlib.legend.Legend at 0x7fa6f471a2e0>"
      ]
     },
     "execution_count": 19,
     "metadata": {},
     "output_type": "execute_result"
    },
    {
     "data": {
      "image/png": "[encoded data removed]",
      "text/plain": [
       "<Figure size 640x480 with 1 Axes>"
      ]
     },
     "metadata": {},
     "output_type": "display_data"
    }
   ],
   "source": [
    "# Plot predictions\n",
    "def prediction(weights: torch.tensor, bias: torch.tensor, x: torch.tensor) -> torch.tensor:\n",
    "    # detach is a PyTorch specific function related to its automatic-differentiation capabilities\n",
    "    return model(weights, bias, x).detach()\n",
    "\n",
    "f_hat = partial(prediction, weights, bias)\n",
    "plt.plot(torch.linspace(-1.0, 1.0), [f_hat(torch.tensor([x])) for x in torch.linspace(-1.0, 1.0)], label='Predictions')\n",
    "plt.plot(X.detach(), y.detach(), marker='o', linestyle='None', label='Dataset')\n",
    "plt.legend()"
   ]
  },
  {
   "cell_type": "markdown",
   "metadata": {},
   "source": [
    "### Linear Regression in PyTorch Using Neural Network Builtins"
   ]
  },
  {
   "cell_type": "code",
   "execution_count": 20,
   "metadata": {},
   "outputs": [],
   "source": [
    "import torch.nn as nn\n",
    "\n",
    "class LinearRegression(nn.Module):\n",
    "    def __init__(self):\n",
    "        super(LinearRegression, self).__init__()\n",
    "        # 1. We construct a 1 weight for the slope\n",
    "        # 2. We construct 1 weight for the bias\n",
    "        self.weights = nn.Linear(1, 1)\n",
    "\n",
    "    def forward(self, x):\n",
    "        # Notice that we are doing a simple linear transformation here\n",
    "        return self.weights(x)"
   ]
  },
  {
   "cell_type": "code",
   "execution_count": 21,
   "metadata": {},
   "outputs": [
    {
     "name": "stdout",
     "output_type": "stream",
     "text": [
      "slope Parameter containing:\n",
      "tensor([[0.8142]], requires_grad=True)\n",
      "offset Parameter containing:\n",
      "tensor([-0.6900], requires_grad=True)\n"
     ]
    }
   ],
   "source": [
    "# 1. Initialize the model\n",
    "model = LinearRegression()\n",
    "# 2. Print the model weights\n",
    "print(\"slope\", model.weights.weight)\n",
    "print(\"offset\", model.weights.bias)"
   ]
  },
  {
   "cell_type": "code",
   "execution_count": 22,
   "metadata": {},
   "outputs": [
    {
     "data": {
      "text/plain": [
       "tensor([0.1242], grad_fn=<AddBackward0>)"
      ]
     },
     "execution_count": 22,
     "metadata": {},
     "output_type": "execute_result"
    }
   ],
   "source": [
    "# 3. Evaluate the model\n",
    "model(torch.tensor([1.0]))"
   ]
  },
  {
   "cell_type": "code",
   "execution_count": 23,
   "metadata": {},
   "outputs": [
    {
     "name": "stdout",
     "output_type": "stream",
     "text": [
      "Initial model parameters ...\n",
      "Parameter containing:\n",
      "tensor([[0.8142]], requires_grad=True)\n",
      "Parameter containing:\n",
      "tensor([-0.6900], requires_grad=True)\n"
     ]
    }
   ],
   "source": [
    "# 4. We can check the model parameters\n",
    "print(\"Initial model parameters ...\")\n",
    "for parameter in model.parameters():\n",
    "    print(parameter)"
   ]
  },
  {
   "cell_type": "code",
   "execution_count": 24,
   "metadata": {},
   "outputs": [],
   "source": [
    "from torch import optim\n",
    "\n",
    "# 1. Create the model\n",
    "model = LinearRegression()\n",
    "# 2. Define the loss\n",
    "mse_loss = torch.nn.MSELoss()\n",
    "# 3. Select an optimizer\n",
    "optimizer = optim.SGD(model.parameters(), lr=1e-1)\n",
    "# 4. Design training procedure\n",
    "for i in range(200):\n",
    "    # a. Use the model to form a prediction on the dataset X\n",
    "    #    Note that we haven't used batching where we split the dataset X into chunks\n",
    "    pred_y = model(X)\n",
    "    # b. Compute the loss\n",
    "    loss = mse_loss(pred_y, y.reshape(-1, 1))\n",
    "    # c. Stateful programming in PyTorch, again ...\n",
    "    #    The optimizer mutates all the tensors present in the model to propagate gradient information.\n",
    "    #    Thus we need to \"zero\" all the gradients.\n",
    "    optimizer.zero_grad()\n",
    "    # d. Compute the gradient of the model w.r.t. the loss function.\n",
    "    loss.backward()\n",
    "    # e. Take an optimization step using the optimizer.\n",
    "    optimizer.step()"
   ]
  },
  {
   "cell_type": "markdown",
   "metadata": {},
   "source": [
    "#### Checking the learned model parameters"
   ]
  },
  {
   "cell_type": "code",
   "execution_count": 25,
   "metadata": {},
   "outputs": [
    {
     "name": "stdout",
     "output_type": "stream",
     "text": [
      "Learned model parameters ...\n",
      "Parameter containing:\n",
      "tensor([[0.8254]], requires_grad=True)\n",
      "Parameter containing:\n",
      "tensor([0.4942], requires_grad=True)\n"
     ]
    }
   ],
   "source": [
    "print(\"Learned model parameters ...\")\n",
    "for parameter in model.parameters():\n",
    "    print(parameter)"
   ]
  },
  {
   "cell_type": "markdown",
   "metadata": {},
   "source": [
    "#### Plotting the learned model"
   ]
  },
  {
   "cell_type": "code",
   "execution_count": 26,
   "metadata": {},
   "outputs": [
    {
     "name": "stderr",
     "output_type": "stream",
     "text": [
      "/home/dehuang/anaconda3/envs/ocp-models/lib/python3.9/site-packages/numpy/core/shape_base.py:65: FutureWarning: The input object of type 'Tensor' is an array-like implementing one of the corresponding protocols (`__array__`, `__array_interface__` or `__array_struct__`); but not a sequence (or 0-D). In the future, this object will be coerced as if it was first converted using `np.array(obj)`. To retain the old behaviour, you have to either modify the type 'Tensor', or assign to an empty array created with `np.empty(correct_shape, dtype=object)`.\n",
      "  ary = asanyarray(ary)\n",
      "/home/dehuang/anaconda3/envs/ocp-models/lib/python3.9/site-packages/numpy/core/shape_base.py:65: VisibleDeprecationWarning: Creating an ndarray from ragged nested sequences (which is a list-or-tuple of lists-or-tuples-or ndarrays with different lengths or shapes) is deprecated. If you meant to do this, you must specify 'dtype=object' when creating the ndarray.\n",
      "  ary = asanyarray(ary)\n"
     ]
    },
    {
     "data": {
      "text/plain": [
       "<matplotlib.legend.Legend at 0x7fa6f46a69a0>"
      ]
     },
     "execution_count": 26,
     "metadata": {},
     "output_type": "execute_result"
    },
    {
     "data": {
      "image/png": "[encoded data removed]",
      "text/plain": [
       "<Figure size 640x480 with 1 Axes>"
      ]
     },
     "metadata": {},
     "output_type": "display_data"
    }
   ],
   "source": [
    "plt.plot(torch.linspace(-1.0, 1.0), [model(torch.tensor([x])).detach() for x in torch.linspace(-1.0, 1.0)], label='Predictions')\n",
    "plt.plot(X.detach(), y.detach(), marker='o', linestyle='None', label='Dataset')\n",
    "plt.legend()"
   ]
  },
  {
   "cell_type": "markdown",
   "metadata": {},
   "source": [
    "### Summary\n",
    "\n",
    "1. The PyTorch nn module provides a clean interface for wrapping up a model and it's learneable weights.\n",
    "2. The PyTorch usage of `.backward()` tells the underlying automatic differentiation engine to compute gradies and store in the `.grad` variable. When using the nn module, all of this is hidden from the user.\n",
    "3. The PyTorch `optim` module gives access to many different optimizers including stochastic gradient descent."
   ]
  },
  {
   "cell_type": "markdown",
   "metadata": {},
   "source": [
    "## Neural Networks\n",
    "\n",
    "The real power of a a neural network is to\n",
    "1. Introduce non-linearities so that non-linear models can be formed.\n",
    "2. Stack layers so that these models can be trained more easily."
   ]
  },
  {
   "cell_type": "code",
   "execution_count": 27,
   "metadata": {},
   "outputs": [],
   "source": [
    "class TwoLayerNN(nn.Module):\n",
    "    def __init__(self):\n",
    "        super(TwoLayerNN, self).__init__()\n",
    "        self.layer1 = nn.Linear(64, 8)  # First layer of parameters\n",
    "        self.layer2 = nn.Linear(8, 1)   # Second layer of parameters\n",
    "\n",
    "    def forward(self, x):\n",
    "        # Linear transformation 1\n",
    "        t1 = self.layer1(x)\n",
    "        # Non-linearity 1\n",
    "        t2 = nn.Sigmoid()(t1)\n",
    "        # Linear transformation 2\n",
    "        t3 = self.layer2(t2)\n",
    "        # Non-linearity 2\n",
    "        t4 = nn.Sigmoid()(t3)\n",
    "        return t4"
   ]
  },
  {
   "cell_type": "code",
   "execution_count": 28,
   "metadata": {},
   "outputs": [],
   "source": [
    "model = TwoLayerNN()"
   ]
  },
  {
   "cell_type": "code",
   "execution_count": 29,
   "metadata": {},
   "outputs": [
    {
     "data": {
      "text/plain": [
       "tensor([0.5450], grad_fn=<SigmoidBackward0>)"
      ]
     },
     "execution_count": 29,
     "metadata": {},
     "output_type": "execute_result"
    }
   ],
   "source": [
    "model(torch.randn(64))"
   ]
  },
  {
   "cell_type": "code",
   "execution_count": 30,
   "metadata": {},
   "outputs": [
    {
     "name": "stdout",
     "output_type": "stream",
     "text": [
      "Initial model parameters ...\n",
      "Parameter containing:\n",
      "tensor([[ 0.1040, -0.0731,  0.1199,  0.1147,  0.0117,  0.0308, -0.0423, -0.0502,\n",
      "          0.0019, -0.0810, -0.1140, -0.0126, -0.0493,  0.0254, -0.0550,  0.0299,\n",
      "          0.1105, -0.1229, -0.0442,  0.0810,  0.0634,  0.0480,  0.0113, -0.1237,\n",
      "         -0.0706, -0.0639,  0.0868,  0.0636,  0.0466, -0.0608, -0.0114,  0.1226,\n",
      "         -0.0982,  0.0442,  0.0857,  0.0052,  0.0351, -0.1051, -0.0084, -0.0051,\n",
      "         -0.1083,  0.0435,  0.0297,  0.0096,  0.0747, -0.0498,  0.0428, -0.1075,\n",
      "          0.1142, -0.0131, -0.0691, -0.1018, -0.0238,  0.0528,  0.0207,  0.0510,\n",
      "          0.1147,  0.1171, -0.0581,  0.0417,  0.0437, -0.1208,  0.0233,  0.0871],\n",
      "        [-0.0060,  0.0065, -0.0233,  0.0060, -0.0719, -0.0470,  0.0870,  0.0322,\n",
      "         -0.0442, -0.0394,  0.0660,  0.0538,  0.0941,  0.0429, -0.0789,  0.0788,\n",
      "          0.0664,  0.0182, -0.0254, -0.0931,  0.0838, -0.1193,  0.0848, -0.0975,\n",
      "         -0.0862,  0.0855, -0.0232, -0.0169,  0.0006,  0.0336, -0.1210,  0.0170,\n",
      "          0.0876,  0.0820,  0.0125,  0.0885, -0.0852, -0.0852,  0.0130,  0.1118,\n",
      "         -0.0407,  0.0745, -0.1121,  0.0594,  0.0100, -0.0223,  0.0694, -0.1205,\n",
      "         -0.0204,  0.0588, -0.0168, -0.0967,  0.0045,  0.0915, -0.0367, -0.0736,\n",
      "          0.0806,  0.0724, -0.0182,  0.0405, -0.0184,  0.0320,  0.0070, -0.0130],\n",
      "        [ 0.0446,  0.0869, -0.0014, -0.0949, -0.0817,  0.0101, -0.0666,  0.0775,\n",
      "         -0.1176, -0.0200,  0.1210,  0.0406,  0.0123, -0.1243,  0.0573,  0.1208,\n",
      "         -0.0771, -0.1160,  0.0471, -0.0257, -0.1024,  0.0381, -0.0855, -0.0959,\n",
      "          0.0553,  0.1118,  0.0588, -0.0278,  0.0091, -0.0078,  0.0801,  0.0520,\n",
      "         -0.0714,  0.0470,  0.0580, -0.0951, -0.0693, -0.1193,  0.0398,  0.0019,\n",
      "          0.1184, -0.0044,  0.0697, -0.0892, -0.0827,  0.0439, -0.0530, -0.0990,\n",
      "         -0.0652,  0.0646, -0.0341,  0.0855, -0.0685, -0.0440,  0.1209,  0.0323,\n",
      "          0.0237,  0.0743,  0.0776, -0.0376,  0.0018,  0.0791, -0.0407, -0.0482],\n",
      "        [-0.1185, -0.0301, -0.0202, -0.0006,  0.1113, -0.0297,  0.0992,  0.0482,\n",
      "          0.1109,  0.0984, -0.0482, -0.0172,  0.1028,  0.0830, -0.0477, -0.0731,\n",
      "          0.0756,  0.0149,  0.0910,  0.0848, -0.0414,  0.0602,  0.0082,  0.0638,\n",
      "         -0.0171,  0.1174,  0.0140,  0.0495,  0.0894,  0.1025, -0.0707,  0.0739,\n",
      "          0.0252, -0.0145,  0.0730,  0.0783, -0.0728,  0.0169, -0.0960, -0.0601,\n",
      "          0.1178,  0.1217, -0.0299, -0.0433, -0.0099, -0.0368,  0.0866,  0.0129,\n",
      "         -0.0033,  0.0362,  0.0420,  0.1057,  0.1128,  0.0003,  0.0513, -0.0358,\n",
      "         -0.1182,  0.0225, -0.0016,  0.0597,  0.1186, -0.1043,  0.0879,  0.0116],\n",
      "        [-0.0120, -0.0335,  0.0363,  0.0838, -0.0187, -0.1187, -0.0975,  0.0897,\n",
      "          0.0308, -0.1216, -0.1130, -0.1054,  0.0825,  0.0669,  0.0582,  0.0643,\n",
      "          0.0409,  0.0228,  0.1113, -0.0788,  0.0644,  0.1073,  0.0634,  0.1121,\n",
      "         -0.0480, -0.0151,  0.0783, -0.0552, -0.1128,  0.1032,  0.0148,  0.0706,\n",
      "         -0.0114,  0.0766, -0.1190, -0.1093,  0.0178, -0.0498,  0.0968, -0.0672,\n",
      "          0.1115, -0.0511, -0.1088,  0.0254, -0.0926,  0.0164,  0.0935, -0.0856,\n",
      "         -0.1198,  0.0515,  0.0962, -0.0693,  0.0964, -0.0994,  0.1076, -0.1199,\n",
      "          0.0278, -0.0149, -0.1017, -0.0376,  0.0606,  0.1020,  0.0893,  0.0042],\n",
      "        [-0.0982, -0.0146,  0.0633,  0.0016,  0.0534,  0.0865, -0.1221, -0.0104,\n",
      "         -0.0562, -0.0454, -0.0344,  0.0300,  0.0758,  0.0926, -0.1053,  0.0047,\n",
      "         -0.0870,  0.1099,  0.0763, -0.1015,  0.0281, -0.0738, -0.1146, -0.0447,\n",
      "          0.0825,  0.0261,  0.0012,  0.1208,  0.0595, -0.0361, -0.0801,  0.0062,\n",
      "          0.0854, -0.0758, -0.0112, -0.0061, -0.0133,  0.1113,  0.0947,  0.0369,\n",
      "          0.1204,  0.0086, -0.0176,  0.0752, -0.0366, -0.1165, -0.1049,  0.0138,\n",
      "         -0.0806,  0.0129,  0.0611, -0.0752, -0.0333,  0.0490, -0.0979, -0.0223,\n",
      "         -0.0451, -0.0648,  0.0723, -0.0797, -0.1200,  0.1208, -0.1218,  0.0570],\n",
      "        [-0.1098,  0.0995, -0.1049,  0.0802, -0.0403,  0.0745, -0.0321,  0.0217,\n",
      "         -0.0144, -0.0535,  0.0428, -0.0684,  0.0452,  0.0464, -0.0571, -0.0667,\n",
      "          0.0244, -0.0576,  0.0216, -0.1194, -0.0341, -0.0932, -0.0556,  0.0471,\n",
      "          0.0938,  0.0563, -0.0304,  0.0509,  0.0148,  0.0963, -0.0838,  0.1151,\n",
      "          0.0815, -0.0282,  0.0485,  0.0743, -0.0270, -0.0934, -0.1118,  0.0230,\n",
      "          0.1037, -0.0227, -0.0326,  0.0004,  0.0664, -0.0331, -0.0213,  0.1208,\n",
      "          0.0286,  0.0778,  0.1095,  0.0553,  0.0344, -0.0926, -0.1220,  0.0888,\n",
      "         -0.1058, -0.1093, -0.0015, -0.0250, -0.1027,  0.1046,  0.0470,  0.0546],\n",
      "        [ 0.0728,  0.1223,  0.0746, -0.0925,  0.0981, -0.0277,  0.0830, -0.0398,\n",
      "         -0.0180,  0.1151,  0.0328, -0.1078,  0.0807, -0.0649, -0.0124,  0.0324,\n",
      "          0.0107, -0.0084, -0.0919, -0.0951,  0.0921, -0.1061,  0.0322, -0.0804,\n",
      "         -0.1122, -0.0455,  0.1010, -0.1025, -0.0578,  0.0496,  0.0773, -0.0196,\n",
      "         -0.1082, -0.0304, -0.0703,  0.0799, -0.1230, -0.0468,  0.0969, -0.1074,\n",
      "         -0.0442,  0.0289,  0.1194,  0.0663,  0.0216,  0.1171, -0.0735, -0.0968,\n",
      "         -0.1010,  0.0163, -0.0238,  0.1078, -0.0864,  0.0924,  0.0805, -0.0815,\n",
      "          0.0634, -0.0990,  0.1130, -0.0467,  0.0787, -0.0650, -0.0183, -0.1035]],\n",
      "       requires_grad=True)\n",
      "Parameter containing:\n",
      "tensor([-0.0527, -0.0395,  0.0558,  0.0800, -0.0533,  0.0487, -0.0792,  0.0424],\n",
      "       requires_grad=True)\n",
      "Parameter containing:\n",
      "tensor([[ 0.0183,  0.1572, -0.2588,  0.2980, -0.2964, -0.1787,  0.2391,  0.1679]],\n",
      "       requires_grad=True)\n",
      "Parameter containing:\n",
      "tensor([0.0510], requires_grad=True)\n"
     ]
    }
   ],
   "source": [
    "print(\"Initial model parameters ...\")\n",
    "for parameter in model.parameters():\n",
    "    print(parameter)"
   ]
  },
  {
   "cell_type": "markdown",
   "metadata": {},
   "source": [
    "### Mathematical Notation\n",
    "\n",
    "The neural network we have defined is $f$\n",
    "$$\n",
    "f(x; A_1, b_1, A_2, b_2) = \\sigma(A_2 \\sigma(A_1 x + b_1) + b_2)\n",
    "$$\n",
    "where\n",
    "1. $A_1$ and $b_1$ are associated with `model.layer1.weight` and `model.layer1.bias` respectively\n",
    "2. $A_2$ and $b_2$ are associated with `model.layer2.weight` and `model.layer2.bias` respectively\n",
    "3. $\\sigma$ is the sigmoid activation function\n"
   ]
  },
  {
   "cell_type": "code",
   "execution_count": 31,
   "metadata": {},
   "outputs": [
    {
     "name": "stdout",
     "output_type": "stream",
     "text": [
      "Learned model parameters ...\n",
      "Parameter containing:\n",
      "tensor([[-6.7039e-02,  5.9024e-02, -4.3484e-02,  1.4377e-02, -3.6055e-02,\n",
      "          6.9883e-02,  9.3284e-02,  9.2417e-02,  1.1895e-01, -6.5219e-02,\n",
      "          8.3117e-02,  2.9750e-02, -6.8553e-02,  6.4672e-02, -9.6624e-02,\n",
      "          1.0687e-01, -1.0015e-01,  5.4476e-02, -9.2027e-02,  3.6977e-02,\n",
      "         -1.2191e-01, -1.2278e-01, -3.3251e-02,  2.8375e-02,  1.3297e-02,\n",
      "          4.3449e-02,  7.8374e-02,  1.6241e-02,  1.0128e-01,  6.7908e-02,\n",
      "          1.0434e-01,  7.4352e-02, -4.7706e-02,  1.0361e-01,  1.2621e-01,\n",
      "         -2.7497e-02, -6.2266e-02,  8.5295e-02, -7.8086e-02, -5.2920e-02,\n",
      "         -2.6904e-02, -7.7202e-02, -9.2573e-02,  1.2289e-02,  1.1157e-01,\n",
      "         -1.2215e-02, -2.4427e-02,  1.7195e-02,  9.6820e-02,  2.6131e-02,\n",
      "          6.3816e-02, -5.4725e-02, -2.5602e-02, -8.9312e-02,  7.1132e-02,\n",
      "         -1.1918e-01,  8.9474e-02,  1.5801e-02,  7.4233e-02, -1.9015e-02,\n",
      "         -6.3957e-02, -1.2113e-01,  8.1838e-02, -9.3598e-02],\n",
      "        [ 8.4296e-03, -2.9161e-02,  5.7937e-02,  5.3768e-03,  3.6204e-02,\n",
      "         -1.2360e-01,  3.7052e-03, -7.1569e-02, -7.3949e-02,  1.1441e-01,\n",
      "         -2.4995e-02,  2.2298e-02,  6.9725e-02,  3.6666e-02,  9.5522e-02,\n",
      "          3.5710e-02,  1.0717e-01,  4.4701e-03,  1.2114e-01,  5.6521e-02,\n",
      "         -1.1963e-01,  7.7635e-02, -8.3863e-02, -3.2408e-02, -4.2970e-02,\n",
      "          1.7330e-02,  3.1591e-02,  4.6571e-02,  1.1203e-02, -3.6738e-02,\n",
      "          9.4279e-02, -4.3763e-02, -5.2249e-02,  8.0330e-02, -9.8637e-02,\n",
      "         -1.3640e-02, -1.2565e-01, -1.2065e-01, -2.2395e-02, -5.1600e-02,\n",
      "         -2.1837e-02, -3.9719e-02,  2.3219e-02,  5.7739e-02,  1.2403e-01,\n",
      "         -8.8928e-02,  1.1995e-01,  9.6677e-02, -8.5457e-03,  8.2858e-02,\n",
      "         -6.1206e-02, -1.4202e-02,  1.1368e-01,  1.2152e-01,  4.8232e-02,\n",
      "          1.2553e-01,  1.1457e-01, -3.7772e-02, -5.5308e-02,  1.4986e-02,\n",
      "         -9.0449e-02,  3.2841e-02, -9.2764e-02, -8.9359e-02],\n",
      "        [-9.2567e-02,  6.8354e-03,  1.0965e-01,  1.1863e-01,  1.1002e-01,\n",
      "         -1.3239e-02,  1.3153e-02,  9.3852e-02,  7.9114e-02, -8.6682e-02,\n",
      "         -8.2683e-02,  4.6081e-03, -5.2322e-02, -4.9285e-02, -2.4630e-02,\n",
      "          9.6360e-02, -4.1237e-02,  4.5602e-02, -6.8816e-02,  6.6282e-02,\n",
      "          3.4164e-02,  5.6713e-02, -9.4653e-02, -5.6430e-04, -1.1515e-01,\n",
      "          2.6733e-02,  8.2721e-03,  1.2748e-04,  1.2355e-01, -7.0298e-02,\n",
      "          1.0254e-01,  8.0440e-02, -1.1936e-02,  9.8466e-02,  6.1483e-02,\n",
      "          1.9658e-02, -4.5836e-02, -2.4577e-02,  6.5467e-02, -1.1013e-01,\n",
      "         -6.6265e-02, -4.6499e-02, -3.2341e-02,  6.7113e-02, -2.1843e-02,\n",
      "          7.9464e-02,  7.4861e-02, -9.6586e-02, -1.1914e-02,  1.2331e-01,\n",
      "          1.4734e-02,  5.5926e-02,  1.5273e-02,  3.6453e-02, -1.7219e-02,\n",
      "          8.0885e-02, -8.2506e-03,  6.3853e-02,  1.0320e-01, -6.2552e-02,\n",
      "          8.3662e-02,  7.9404e-02,  8.1971e-03, -9.4776e-02],\n",
      "        [ 6.8939e-02, -2.9490e-02,  1.1409e-01,  6.3192e-02,  1.1243e-01,\n",
      "         -3.9871e-02,  2.0699e-02,  4.4537e-02, -8.1906e-03, -6.6944e-02,\n",
      "          7.7886e-02,  1.0761e-01,  7.1143e-03,  6.1797e-02, -1.1286e-01,\n",
      "          1.0799e-02,  6.7397e-02,  5.8442e-02,  8.0096e-02,  8.3730e-02,\n",
      "          5.7348e-02, -1.0780e-01, -5.2830e-02,  8.8081e-02,  1.1435e-01,\n",
      "          1.5204e-02,  1.2441e-01, -5.3711e-04,  2.1202e-02,  1.2524e-01,\n",
      "          2.4324e-02, -1.1660e-01,  9.9110e-02,  9.6410e-02,  1.0385e-01,\n",
      "         -3.3363e-02,  5.5791e-02,  3.8631e-02,  1.1574e-01, -1.1638e-01,\n",
      "          5.6097e-02, -2.4819e-02, -7.2562e-02, -1.4926e-03, -1.1305e-01,\n",
      "         -7.9746e-02,  1.1790e-01, -1.0681e-03, -3.7618e-02, -1.0406e-01,\n",
      "          6.1831e-02,  9.4823e-02,  1.0779e-02, -6.6162e-02, -9.4374e-02,\n",
      "         -9.1923e-03,  1.0675e-01,  6.4728e-02, -5.5432e-03, -2.6750e-02,\n",
      "          7.9963e-02,  1.3889e-02, -4.3078e-02,  6.5900e-02],\n",
      "        [ 3.7671e-02, -1.1230e-01, -1.5738e-02, -1.1392e-01,  1.2000e-01,\n",
      "          4.3026e-02,  1.1404e-01, -7.5769e-02,  8.5982e-02, -6.5175e-02,\n",
      "         -4.8289e-02, -1.0725e-01, -9.2647e-02, -2.8132e-02,  1.8591e-02,\n",
      "         -8.0949e-02, -3.4375e-02,  2.1239e-02, -1.9816e-02, -3.1764e-02,\n",
      "          8.6870e-02,  6.4462e-02,  4.7913e-02,  3.6552e-02, -5.3470e-02,\n",
      "         -1.9119e-02,  2.8919e-02, -6.9606e-02,  4.8643e-02, -9.2012e-02,\n",
      "         -9.8328e-02, -8.1728e-02,  6.3955e-02, -5.8044e-02,  1.1451e-01,\n",
      "          4.8115e-02, -1.9090e-02, -5.4404e-02, -4.4269e-02,  5.8481e-03,\n",
      "          9.5398e-02,  8.8006e-02, -7.9625e-02,  1.0985e-01, -1.0696e-01,\n",
      "          1.8094e-03, -1.0697e-01,  2.4480e-02,  9.0182e-02,  8.2727e-02,\n",
      "         -8.0333e-02,  2.6426e-02, -5.7668e-02, -1.1912e-01,  1.1246e-01,\n",
      "         -1.0024e-02, -7.7844e-02,  8.5844e-02, -1.6690e-02,  7.4660e-02,\n",
      "         -3.3005e-02,  1.1129e-01, -2.6668e-02, -5.9408e-02],\n",
      "        [-4.5245e-02,  9.2036e-02,  4.4770e-02,  1.3464e-02, -9.3684e-02,\n",
      "         -1.0357e-03,  9.8273e-03, -6.8631e-03, -7.2339e-02, -1.0023e-01,\n",
      "         -8.9679e-02,  4.1254e-02,  4.5475e-02, -1.0851e-01, -2.7411e-02,\n",
      "          4.2159e-02, -7.3427e-02,  6.3441e-02,  4.8847e-02,  9.2425e-02,\n",
      "         -3.6839e-02, -6.2899e-02,  6.9898e-02, -8.5864e-02, -1.0895e-01,\n",
      "         -4.8354e-02, -8.6003e-02, -1.8617e-03,  8.6815e-02, -3.7449e-02,\n",
      "          5.4879e-02,  1.0394e-01,  8.8116e-02,  8.2816e-04,  7.4561e-02,\n",
      "          6.8451e-02, -3.4028e-02,  1.0074e-01, -3.6213e-02,  7.4927e-03,\n",
      "         -6.1514e-02,  1.1754e-01,  4.8156e-02, -4.8704e-02,  3.0548e-02,\n",
      "          5.6892e-02, -7.0977e-02, -3.4955e-02, -1.0600e-01, -2.0688e-02,\n",
      "          5.0280e-02, -1.0275e-01, -9.3178e-02,  8.9689e-02, -6.4070e-02,\n",
      "          7.9580e-02,  1.1345e-01, -8.3515e-02, -5.1647e-02,  4.6033e-02,\n",
      "         -1.1382e-01, -1.3336e-02, -3.0136e-02, -5.9149e-02],\n",
      "        [ 1.1661e-01,  1.2112e-03,  7.6665e-02,  9.4368e-02, -7.3118e-02,\n",
      "         -1.0289e-01, -1.0590e-01,  8.5582e-02,  1.1454e-02,  3.7136e-02,\n",
      "          1.4324e-02, -5.1983e-02,  1.0711e-02,  5.2358e-02, -7.6546e-02,\n",
      "          7.8090e-02, -1.0695e-01,  9.1825e-02,  8.1663e-03, -5.5068e-02,\n",
      "          2.7652e-02, -3.2505e-02, -4.3538e-02, -4.9141e-02, -6.8945e-03,\n",
      "          1.0510e-01,  1.1704e-01, -7.2405e-02,  9.8722e-02, -1.7474e-03,\n",
      "          1.1848e-01,  3.9343e-02,  5.2885e-02, -6.2899e-02, -9.0632e-02,\n",
      "         -1.1186e-01,  7.5236e-02, -1.1313e-01, -1.1159e-01, -8.6596e-02,\n",
      "         -8.2417e-02,  1.0871e-01,  8.6424e-02,  1.0508e-01,  2.2071e-02,\n",
      "         -8.1465e-02,  7.5753e-02,  7.5549e-02,  7.2978e-02,  2.6283e-02,\n",
      "         -1.1046e-01, -7.4857e-02, -9.9403e-02,  6.7997e-02, -1.1783e-01,\n",
      "          6.3308e-02,  7.8476e-02,  2.5341e-02, -8.2194e-03, -6.0858e-02,\n",
      "         -1.1622e-01,  1.2124e-01,  4.0757e-02, -1.0450e-03],\n",
      "        [-8.9483e-03,  3.0421e-02,  5.9783e-02,  1.2565e-02, -7.0053e-02,\n",
      "          1.0434e-01, -7.3384e-02,  6.8211e-02,  1.2128e-01,  5.0120e-02,\n",
      "         -1.0319e-01, -7.4914e-02,  6.7386e-02,  1.0848e-01, -4.5150e-02,\n",
      "          3.9217e-02, -1.2735e-01,  1.8256e-02, -9.6131e-02, -2.4918e-02,\n",
      "         -5.5432e-02, -6.7711e-02, -1.0676e-01,  6.1168e-02, -4.0136e-02,\n",
      "         -8.3693e-02, -1.1968e-01, -1.2417e-01, -6.6917e-02, -1.1686e-01,\n",
      "         -1.2244e-01,  9.0777e-02,  1.0993e-01, -4.8499e-02, -7.1983e-03,\n",
      "         -9.6239e-03, -2.8174e-02,  1.0933e-02,  1.1627e-01, -6.5715e-02,\n",
      "         -3.8550e-02, -4.5430e-02, -1.2340e-01,  5.2515e-02,  1.0430e-01,\n",
      "          6.3628e-02,  1.0165e-01,  1.1457e-02, -3.9635e-02,  3.9506e-02,\n",
      "         -7.7756e-02,  1.9573e-03, -4.0900e-02, -3.8830e-02,  7.8258e-04,\n",
      "          1.2797e-01,  1.6923e-02, -3.4257e-02,  5.1192e-03, -2.7239e-02,\n",
      "         -1.0888e-01, -3.3871e-02,  9.3087e-02, -5.0488e-02]],\n",
      "       requires_grad=True)\n",
      "Parameter containing:\n",
      "tensor([ 0.1075,  0.1035,  0.0537,  0.0780,  0.0666, -0.0190,  0.1560,  0.1447],\n",
      "       requires_grad=True)\n",
      "Parameter containing:\n",
      "tensor([[0.5500, 0.3600, 0.2815, 0.4343, 0.3602, 0.2146, 0.4879, 0.5437]],\n",
      "       requires_grad=True)\n",
      "Parameter containing:\n",
      "tensor([0.9032], requires_grad=True)\n"
     ]
    }
   ],
   "source": [
    "# New data\n",
    "X = torch.randn(100, 64)\n",
    "b = torch.ones(100)\n",
    "\n",
    "# Changed model\n",
    "model = TwoLayerNN()\n",
    "\n",
    "# Everything else is the same\n",
    "mse_loss = torch.nn.MSELoss()\n",
    "optimizer = optim.SGD(model.parameters(), lr=1e-1)\n",
    "epochs = 200\n",
    "for i in range(epochs):\n",
    "    pred_y = model(X)\n",
    "    loss = mse_loss(pred_y, b.reshape(-1, 1))\n",
    "    optimizer.zero_grad()\n",
    "    loss.backward() # This handles all the gradients\n",
    "    optimizer.step()\n",
    "    \n",
    "print(\"Learned model parameters ...\")\n",
    "for parameter in model.parameters():\n",
    "    print(parameter)"
   ]
  },
  {
   "cell_type": "code",
   "execution_count": 32,
   "metadata": {},
   "outputs": [
    {
     "data": {
      "text/plain": [
       "tensor(0.0047, grad_fn=<MseLossBackward0>)"
      ]
     },
     "execution_count": 32,
     "metadata": {},
     "output_type": "execute_result"
    }
   ],
   "source": [
    "mse_loss(model(X), b.reshape(-1, 1))"
   ]
  },
  {
   "cell_type": "code",
   "execution_count": 33,
   "metadata": {},
   "outputs": [
    {
     "data": {
      "text/plain": [
       "tensor([[0.9384],\n",
       "        [0.9166],\n",
       "        [0.9445],\n",
       "        [0.9251],\n",
       "        [0.9292],\n",
       "        [0.9248],\n",
       "        [0.9383],\n",
       "        [0.9396],\n",
       "        [0.9370],\n",
       "        [0.9329],\n",
       "        [0.9392],\n",
       "        [0.9327],\n",
       "        [0.9196],\n",
       "        [0.9445],\n",
       "        [0.9529],\n",
       "        [0.9302],\n",
       "        [0.9144],\n",
       "        [0.9332],\n",
       "        [0.9326],\n",
       "        [0.9119],\n",
       "        [0.9336],\n",
       "        [0.9394],\n",
       "        [0.9301],\n",
       "        [0.9227],\n",
       "        [0.9308],\n",
       "        [0.9273],\n",
       "        [0.9366],\n",
       "        [0.9195],\n",
       "        [0.9213],\n",
       "        [0.9345],\n",
       "        [0.9415],\n",
       "        [0.9290],\n",
       "        [0.9369],\n",
       "        [0.9219],\n",
       "        [0.9499],\n",
       "        [0.9328],\n",
       "        [0.9193],\n",
       "        [0.9273],\n",
       "        [0.9315],\n",
       "        [0.9309],\n",
       "        [0.9460],\n",
       "        [0.9228],\n",
       "        [0.9409],\n",
       "        [0.9272],\n",
       "        [0.9396],\n",
       "        [0.9459],\n",
       "        [0.9425],\n",
       "        [0.9235],\n",
       "        [0.9442],\n",
       "        [0.9391],\n",
       "        [0.9266],\n",
       "        [0.9174],\n",
       "        [0.9394],\n",
       "        [0.9385],\n",
       "        [0.9194],\n",
       "        [0.9456],\n",
       "        [0.9050],\n",
       "        [0.9167],\n",
       "        [0.9282],\n",
       "        [0.9399],\n",
       "        [0.9356],\n",
       "        [0.9179],\n",
       "        [0.9321],\n",
       "        [0.9375],\n",
       "        [0.9172],\n",
       "        [0.9361],\n",
       "        [0.9325],\n",
       "        [0.9293],\n",
       "        [0.9342],\n",
       "        [0.9373],\n",
       "        [0.9266],\n",
       "        [0.9413],\n",
       "        [0.9474],\n",
       "        [0.9232],\n",
       "        [0.9081],\n",
       "        [0.9354],\n",
       "        [0.9419],\n",
       "        [0.9370],\n",
       "        [0.9282],\n",
       "        [0.9328],\n",
       "        [0.9166],\n",
       "        [0.9417],\n",
       "        [0.9246],\n",
       "        [0.9300],\n",
       "        [0.9543],\n",
       "        [0.9397],\n",
       "        [0.9335],\n",
       "        [0.9345],\n",
       "        [0.9386],\n",
       "        [0.9361],\n",
       "        [0.9249],\n",
       "        [0.9388],\n",
       "        [0.9207],\n",
       "        [0.9292],\n",
       "        [0.9311],\n",
       "        [0.9500],\n",
       "        [0.9322],\n",
       "        [0.9372],\n",
       "        [0.9312],\n",
       "        [0.9204]], grad_fn=<SigmoidBackward0>)"
      ]
     },
     "execution_count": 33,
     "metadata": {},
     "output_type": "execute_result"
    }
   ],
   "source": [
    "model(X)"
   ]
  },
  {
   "cell_type": "code",
   "execution_count": 34,
   "metadata": {},
   "outputs": [
    {
     "data": {
      "text/plain": [
       "(tensor(0.8933, grad_fn=<MinBackward1>),\n",
       " tensor(0.9561, grad_fn=<MaxBackward1>),\n",
       " tensor(0.9300, grad_fn=<MeanBackward0>))"
      ]
     },
     "execution_count": 34,
     "metadata": {},
     "output_type": "execute_result"
    }
   ],
   "source": [
    "test_X = torch.randn(1000, 64)\n",
    "test_y = model(test_X).reshape(-1)\n",
    "test_y.min(), test_y.max(), test_y.mean()"
   ]
  },
  {
   "cell_type": "markdown",
   "metadata": {},
   "source": [
    "### Mean-Squared Error Loss\n",
    "\n",
    "As a reminder, minimizing the mean-squared error loss is equivalent to maximizing the conditional density\n",
    "\\begin{align*}\n",
    "p(y) & = \\prod_{i=1}^N p(y_i) \\\\\n",
    "\\end{align*}\n",
    "where\n",
    "1. $p(y_i) = \\mathcal{N}(f(x_i), 1)$\n",
    "2. $f(x; A_1, b_1, A_2, b_2) = \\sigma(A_2 \\sigma(A_1 x + b_1) + b_2)$"
   ]
  },
  {
   "cell_type": "markdown",
   "metadata": {},
   "source": [
    "### Neural Network Zoo\n",
    "\n",
    "1. There are many neural network architectures. (There are also many activation functions.)\n",
    "    - Convolutional neural networks (good for images)\n",
    "    - Transformers (good for text, basically anything at this point)\n",
    "    - Recurrent neural networks (good for sequences)\n",
    "2. In essence, all of these correspond to choosing a matrix A and bias b of a certain shape.\n",
    "3. Each architecture provides an inductive bias that helps the model learn an appropriate representation. In this sense, a fully-connected layer, i.e., dense matrix A provides the least inductive bias."
   ]
  },
  {
   "cell_type": "markdown",
   "metadata": {},
   "source": [
    "### Optional: Understanding how gradients propagate\n",
    "\n",
    "Let's rewrite the original function as\n",
    "\\begin{align*}\n",
    "f(x; A_1, b_1, A_2, b_2) & = \\sigma(y_2) \\\\\n",
    "y_2 & = A_2 \\sigma(y_1) + b_2 \\\\\n",
    "y_1 & = A_1 x + b1\n",
    "\\end{align*}\n",
    "\n",
    "Suppose we are interested in the update to parameter $A_1$ so we compute its gradient\n",
    "\\begin{align*}\n",
    "\\frac{\\partial f}{\\partial A_1} & = \\frac{d\\sigma}{dy_2} \\frac{d y_2}{dy_1} \\frac{d y_1}{dA_1} \\\\\n",
    "\\frac{d y_2}{dy_1} & = A_2 \\frac{d\\sigma}{dy_1} \\\\\n",
    "\\frac{d y_1}{dA_1} & = x\n",
    "\\end{align*}\n",
    "\n",
    "Thus\n",
    "$$\n",
    "\\frac{\\partial f}{\\partial A_1} = \\left( \\frac{d\\sigma}{dy_2}|_{y_2 = A_2 \\sigma(y_1) + b_2} \\right) \\left( A_2 \\frac{d\\sigma}{dy_1}|_{y_1 = A_1 x + b1} \\right) x\n",
    "$$\n"
   ]
  },
  {
   "cell_type": "markdown",
   "metadata": {},
   "source": [
    "## On to Gradient Regression!\n",
    "\n",
    "1. Let $(x_i, (y_i, dy_i/dx_i))_i$ be a dataset.\n",
    "2. Develop a model and a training procedure such that \n",
    "$f_\\theta(x)$ fits $y$ and $\\frac{\\partial}{\\partial x}f_\\theta(x)$ fits $dy_i/dx_i$."
   ]
  },
  {
   "cell_type": "code",
   "execution_count": 35,
   "metadata": {},
   "outputs": [
    {
     "data": {
      "text/plain": [
       "Text(0.5, 1.0, 'Gradient Regression')"
      ]
     },
     "execution_count": 35,
     "metadata": {},
     "output_type": "execute_result"
    },
    {
     "data": {
      "image/png": "[encoded data removed]",
      "text/plain": [
       "<Figure size 640x480 with 1 Axes>"
      ]
     },
     "metadata": {},
     "output_type": "display_data"
    }
   ],
   "source": [
    "# Synthetic functions\n",
    "f = lambda x: x**2\n",
    "grad_f = lambda x: 2*x\n",
    "\n",
    "# Synthetic functions evaluated at xs\n",
    "xs = torch.linspace(-2, 2, 30)\n",
    "ys = torch.tensor([f(x) for x in xs])\n",
    "dy_dxs = torch.tensor([grad_f(x) for x in xs])\n",
    "\n",
    "# Plotting dataset\n",
    "plt.plot(xs, ys, label='f')\n",
    "plt.scatter(xs, ys, label='Train y')\n",
    "\n",
    "# Plot gradients\n",
    "origin = torch.stack([xs, ys])\n",
    "plt.quiver(*origin, np.ones(len(xs)), dy_dxs, label='Train dy/dx')\n",
    "plt.legend(); plt.title('Gradient Regression')"
   ]
  },
  {
   "cell_type": "markdown",
   "metadata": {},
   "source": [
    "### Gradient Regression with Neural Network Linear Regression\n",
    "\n",
    "1. We'll now look at neural networks for the gradient regression problem.\n",
    "2. As always, we should start with the simplest model."
   ]
  },
  {
   "cell_type": "code",
   "execution_count": 36,
   "metadata": {},
   "outputs": [],
   "source": [
    "class GradLinearRegression(nn.Module):\n",
    "    def __init__(self, D: int):\n",
    "        super(GradLinearRegression, self).__init__()\n",
    "        self.weights = nn.Linear(D, 1)\n",
    "\n",
    "    def forward(self, x):\n",
    "        # Notice that we are doing a simple linear transformation here\n",
    "        y = self.weights(x)\n",
    "\n",
    "        # Next we need to take the derivative of the model's prediction w.r.t. x\n",
    "        dy_dx = torch.autograd.grad(\n",
    "            y, # the y value\n",
    "            x, # the value to take the derivative w.r.t.\n",
    "            grad_outputs=torch.ones_like(y), # the shape of the output\n",
    "            create_graph=True,)[0] # PyTorch AD details, we need this since we will\n",
    "                                   # differentiate the function again w.r.t. the parameters\n",
    "        return torch.cat([y, dy_dx], dim=-1)"
   ]
  },
  {
   "cell_type": "code",
   "execution_count": 37,
   "metadata": {},
   "outputs": [
    {
     "data": {
      "text/plain": [
       "tensor([-0.6021, -0.3036], grad_fn=<CatBackward0>)"
      ]
     },
     "execution_count": 37,
     "metadata": {},
     "output_type": "execute_result"
    }
   ],
   "source": [
    "# Construct a model and make sure it runs\n",
    "gradModel = GradLinearRegression(1)\n",
    "gradModel(torch.tensor([1.], requires_grad=True))"
   ]
  },
  {
   "cell_type": "markdown",
   "metadata": {},
   "source": [
    "#### Model in mathematical notation\n",
    "\n",
    "The code that we have written corresponds to the model below\n",
    "\\begin{align*}\n",
    "y & = f(x; w; b) = w^T x + b \\\\\n",
    "\\frac{dy}{dx} & = \\nabla_x f(x; w, b) = w\n",
    "\\end{align*}\n",
    "\n",
    "As a reminder, we are using AD to obtain the gradient of the model w.r.t. the input x."
   ]
  },
  {
   "cell_type": "code",
   "execution_count": 58,
   "metadata": {},
   "outputs": [],
   "source": [
    "mse_loss = torch.nn.MSELoss()\n",
    "def gradreg_loss(x, y):\n",
    "    return mse_loss(x[:,0], y[:,0]) + mse_loss(x[:,1:], y[:,1:])"
   ]
  },
  {
   "cell_type": "code",
   "execution_count": 60,
   "metadata": {},
   "outputs": [],
   "source": [
    "# Create model\n",
    "gradModel = GradLinearRegression(1)\n",
    "\n",
    "# Reshape training data\n",
    "train_X = xs.reshape(-1, 1).requires_grad_()\n",
    "train_y = torch.tensor([(ys[i], dy_dxs[i]) for i in range(len(ys))])\n",
    "\n",
    "# Setup optimizer\n",
    "optimizer = optim.SGD(gradModel.parameters(), lr=1e-1)\n",
    "epochs = 200\n",
    "for i in range(epochs):\n",
    "    # Compute loss\n",
    "    pred_y = gradModel(train_X)\n",
    "    loss = gradreg_loss(pred_y, train_y)\n",
    "\n",
    "    # Optimization step\n",
    "    optimizer.zero_grad()\n",
    "    loss.backward()\n",
    "    optimizer.step()"
   ]
  },
  {
   "cell_type": "code",
   "execution_count": 61,
   "metadata": {},
   "outputs": [
    {
     "name": "stdout",
     "output_type": "stream",
     "text": [
      "Learned model parameters ...\n",
      "Parameter containing:\n",
      "tensor([[-5.1919e-08]], requires_grad=True)\n",
      "Parameter containing:\n",
      "tensor([1.4253], requires_grad=True)\n"
     ]
    }
   ],
   "source": [
    "print(\"Learned model parameters ...\")\n",
    "for parameter in gradModel.parameters():\n",
    "    print(parameter)"
   ]
  },
  {
   "cell_type": "code",
   "execution_count": 63,
   "metadata": {},
   "outputs": [
    {
     "data": {
      "text/plain": [
       "Text(0.5, 1.0, 'Gradient Regression')"
      ]
     },
     "execution_count": 63,
     "metadata": {},
     "output_type": "execute_result"
    },
    {
     "data": {
      "image/png": "[encoded data removed]",
      "text/plain": [
       "<Figure size 640x480 with 1 Axes>"
      ]
     },
     "metadata": {},
     "output_type": "display_data"
    }
   ],
   "source": [
    "# Plotting dataset\n",
    "plt.plot(xs, ys, label='f')\n",
    "plt.scatter(xs, ys, label='Train y')\n",
    "plt.plot(xs, [gradModel(torch.tensor([x], requires_grad=True)).detach()[0] for x in xs], label='Prediction')\n",
    "\n",
    "# Plot gradients\n",
    "origin = torch.stack([xs, ys])\n",
    "plt.quiver(*origin, np.ones(len(xs)), dy_dxs, label='Train dy/dx')\n",
    "plt.legend(); plt.title('Gradient Regression')"
   ]
  },
  {
   "cell_type": "markdown",
   "metadata": {},
   "source": [
    "### Summary\n",
    "\n",
    "1. We had a gentle introduction to neural networks.\n",
    "2. We saw how to use the PyTorch library to replicate all the simple models we have seen in class.\n",
    "3. We encoded the gradient regression problem as a neural network in PyTorch."
   ]
  },
  {
   "cell_type": "markdown",
   "metadata": {},
   "source": [
    "## SchNet: A continuous-filter convolutional neural network for modeling quantum interactions\n",
    "\n",
    "1. Paper: [https://arxiv.org/pdf/1706.08566.pdf](https://arxiv.org/pdf/1706.08566.pdf).\n",
    "2. We now have tools we need to dive into research on how to construct neural networks for quantum chemistry.\n",
    "3. These neural networks try to replicate the PES of a molecular system."
   ]
  },
  {
   "cell_type": "markdown",
   "metadata": {},
   "source": [
    "### How to read research paper?\n",
    "\n",
    "1. Read the **abstract** to figure out what problem the paper is addressing and what the conclusions are.\n",
    "2. Read the **introduction** to figure out what problem the paper is addressing.\n",
    "3. Read the **conclusion** to figure out what the solution to the problem is.\n",
    "4. Read the **experiments** to figure out how they justify their conclusions with quantifiable metrics.\n",
    "5. If the paper is still interesting, read the **methods** to figure out what they actually did. In this case, it useful to look for code: [https://pytorch-geometric.readthedocs.io/en/latest/_modules/torch_geometric/nn/models/schnet.html](https://pytorch-geometric.readthedocs.io/en/latest/_modules/torch_geometric/nn/models/schnet.html)"
   ]
  },
  {
   "cell_type": "markdown",
   "metadata": {},
   "source": [
    "### Abstract\n",
    "\n",
    "1. Develop a new neural network architecture that modifies a convolutional neural network to work with atoms.\n",
    "2. Develop a model called Schnet that models a PES.\n",
    "3. Benchmark models on tasks that identify limitations."
   ]
  },
  {
   "cell_type": "markdown",
   "metadata": {},
   "source": [
    "### Introduction\n",
    "\n",
    "From the paper:\n",
    "1. We propose continuous-filter convolutional (cfconv) layers as a means to move beyond\n",
    "grid-bound data such as images or audio towards modeling objects with arbitrary positions\n",
    "such as astronomical observations or atoms in molecules and materials.\n",
    "2. We propose SchNet: a neural network specifically designed to respect essential quantumchemical constraints. In particular, we use the proposed cfconv layers in R3 to model\n",
    "interactions of atoms at arbitrary positions in the molecule. SchNet delivers both rotationally\n",
    "invariant energy prediction and rotationally equivariant force predictions. We obtain a\n",
    "smooth potential energy surface and the resulting force-field is guaranteed to be energyconserving.\n",
    "3. We present a new, challenging benchmark – ISO17 – including both chemical and conformational changes. We show that training with forces improves generalization in this setting\n",
    "as well."
   ]
  },
  {
   "cell_type": "markdown",
   "metadata": {},
   "source": [
    "### Conclusion\n",
    "\n",
    "1. The architecture works: \"We have developed SchNet to demonstrate the capabilities of continuous-filter convolutional layers in the context of modeling quantum interactions in molecules. Our architecture respects quantum-chemical constraints such as rotationally invariant energy predictions as well as rotationally equivariant, energy-conserving\n",
    "force predictions.\"\n",
    "2. A sequence of tasks: chemical degrees of freedom, conformational degrees of freedom, chemical and conformational degrees of freedom. \"We have evaluated our model in three increasingly challenging experimental settings. Each brings us one step closer to practical chemical exploration driven by machine learning. SchNet improves the state-of-the-art in predicting energies for molecules in equilibrium of the QM9 benchmark. Beyond that, it achieves accurate predictions for energies and forces for all molecular dynamics trajectories in MD17. Finally, we have introduced ISO17 consisting of 645,000 conformations of various C7O2H10 isomers. While we achieve promising results on this new benchmark, modeling chemical and\n",
    "conformational variations remains difficult and needs further improvement. For this reason, we expect\n",
    "that ISO17 will become a new standard benchmark for modeling quantum interactions with machine\n",
    "learning.\""
   ]
  },
  {
   "cell_type": "markdown",
   "metadata": {},
   "source": [
    "### Experiments\n",
    "\n",
    "Tasks in increasing order of difficulty\n",
    "1. Chemical degress of freedom: QM9 dataset\n",
    "2. Conformational degrees of freedom: MD17 dataset\n",
    "3. Chemical and conformational degrees of freedom: ISO 17 dataset"
   ]
  },
  {
   "cell_type": "markdown",
   "metadata": {},
   "source": [
    "#### Chemical Degrees of Freedom\n",
    "\n",
    "1. All molecules are at equilibrium\n",
    "2. We are trying to predict energy (since force is 0)\n",
    "\n",
    "![table1.png](./table1.png)\n"
   ]
  },
  {
   "cell_type": "markdown",
   "metadata": {},
   "source": [
    "#### Conformational Degrees of Freedom\n",
    "\n",
    "1. We take different geometries of the same molecule.\n",
    "2. We are trying to predict energy and force. This is the gradient regression setting.\n",
    "\n",
    "![table2.png](./table2.png)\n"
   ]
  },
  {
   "cell_type": "markdown",
   "metadata": {},
   "source": [
    "#### Chemical and Conformational Degrees of Freedom\n",
    "\n",
    "1. We vary the molecules and the geometries of the molecules.\n",
    "2. We try to predict the energy and the force.\n",
    "3. Clearly this is the hardest task since we need to transfer knowledge from one molecule to a different one.\n",
    "\n",
    "![table3.png](./table3.png)\n"
   ]
  },
  {
   "cell_type": "markdown",
   "metadata": {},
   "source": [
    "### Methods\n",
    "\n",
    "1. Now that we know that we know what problems the paper is addressing, what the conclusions are, and what the experiments that justify those conclusions looks like, we can dive into the methods.\n",
    "2. This is where it's important to get hands on and get code! [https://pytorch-geometric.readthedocs.io/en/latest/_modules/torch_geometric/nn/models/schnet.html](https://pytorch-geometric.readthedocs.io/en/latest/_modules/torch_geometric/nn/models/schnet.html)"
   ]
  },
  {
   "cell_type": "markdown",
   "metadata": {},
   "source": [
    "#### Demonstration\n",
    "\n",
    "```py\n",
    "python train_schnet.py\n",
    "```"
   ]
  },
  {
   "cell_type": "markdown",
   "metadata": {},
   "source": [
    "#### Continuous-Filter Convolution\n",
    "\n",
    "![cfc.png](cfc.png)"
   ]
  },
  {
   "cell_type": "code",
   "execution_count": 68,
   "metadata": {},
   "outputs": [],
   "source": [
    "from torch import Tensor\n",
    "from torch.nn import Sequential  # Used for sequencing layers\n",
    "from torch_geometric.nn import MessagePassing  # PyTorch graph neural network package\n",
    "\n",
    "# Continuous-filter convolutions, section 3 of paper\n",
    "class CFConv(MessagePassing):\n",
    "    def __init__(self, in_channels: int, out_channels: int, num_filters: int,\n",
    "                 nn: Sequential, cutoff: float):\n",
    "        super().__init__(aggr='add')\n",
    "\n",
    "        # Parameters\n",
    "        self.lin1 = Linear(in_channels, num_filters, bias=False)  # D x l\n",
    "        self.lin2 = Linear(num_filters, out_channels)             # l x F\n",
    "        self.nn = nn                                              # Sequence\n",
    "        \n",
    "        self.cutoff = cutoff\n",
    "        \n",
    "        self.reset_parameters()\n",
    "\n",
    "    def forward(self, x: Tensor, edge_index: Tensor, edge_weight: Tensor,\n",
    "                edge_attr: Tensor) -> Tensor:\n",
    "        # THe implementation of the layer\n",
    "        C = 0.5 * (torch.cos(edge_weight * PI / self.cutoff) + 1.0)\n",
    "        W = self.nn(edge_attr) * C.view(-1, 1)\n",
    "\n",
    "        x = self.lin1(x)\n",
    "        x = self.propagate(edge_index, x=x, W=W)\n",
    "        x = self.lin2(x)\n",
    "        return x\n",
    "\n",
    "    def message(self, x_j: Tensor, W: Tensor) -> Tensor:\n",
    "        return x_j * W\n",
    "\n",
    "    def reset_parameters(self):\n",
    "        torch.nn.init.xavier_uniform_(self.lin1.weight)\n",
    "        torch.nn.init.xavier_uniform_(self.lin2.weight)\n",
    "        self.lin2.bias.data.fill_(0)"
   ]
  },
  {
   "cell_type": "markdown",
   "metadata": {},
   "source": [
    "#### Training with Energies and Forces\n",
    "\n",
    "![ef.png](ef.png)"
   ]
  },
  {
   "cell_type": "markdown",
   "metadata": {},
   "source": [
    "Excerpt from Schnet model\n",
    "```py\n",
    "    def forward(self, data):\n",
    "        z = data[\"z\"]\n",
    "        pos = data[\"R\"]\n",
    "        batch = data[\"batch\"]\n",
    "\n",
    "        if self.regress_forces:\n",
    "            pos.requires_grad_(True)\n",
    "\n",
    "        energy = super(SchNetWrap, self).forward(z, pos, batch=batch)\n",
    "\n",
    "        if self.regress_forces:\n",
    "            # This is where we are predicting the force by taking the gradient\n",
    "            # w.r.t. the model\n",
    "            forces = -1*(torch.autograd.grad(energy, pos, grad_outputs=torch.ones_like(energy), create_graph=True,)[0])\n",
    "            return {\"E\":energy, \"F\":forces}\n",
    "        else:\n",
    "            return {\"E\":energy}\n",
    "```"
   ]
  },
  {
   "cell_type": "markdown",
   "metadata": {},
   "source": [
    "#### Loss Function\n",
    "\n",
    "![loss.png](loss.png)"
   ]
  },
  {
   "cell_type": "markdown",
   "metadata": {},
   "source": [
    "Excerpt from code\n",
    "```py\n",
    "def EnergyLoss(pred, label):\n",
    "    p, l = pred[\"E\"].squeeze(), label[\"E\"].squeeze()\n",
    "    mae = torch.nn.L1Loss()  # note that this is MAE and not MSE!\n",
    "    return mae(p, l)\n",
    "\n",
    "def AtomForceLoss(pred, label):\n",
    "    p, l = pred[\"F\"].squeeze(), label[\"F\"].squeeze()\n",
    "    p = p.reshape((-1, 3))\n",
    "    l = l.reshape((-1, 3))\n",
    "    mae = torch.nn.L1Loss()  # note that this is MAE and not MSE!\n",
    "    return torch.Tensor([mae(p[i], l[i]) for i in range(len(p))])\n",
    "\n",
    "def EnergyForceLoss(pred, label):\n",
    "    E = EnergyLoss(pred, label)\n",
    "    F = AtomForceLoss(pred, label)\n",
    "    return E + 30*torch.mean(F)\n",
    "```"
   ]
  },
  {
   "cell_type": "markdown",
   "metadata": {},
   "source": [
    "### Summary\n",
    "\n",
    "1. We saw how to map parts of the paper to an actual implementation.\n",
    "2. In particular, the implementation and the paper didn't exactly match up. This is because the code is the \"ground truth\" and has evolved since the paper was published. This is why we always emphasize the code.\n",
    "3. We hopefully began to see how the fundamentals we've been learning are at play in the context of real research in this field."
   ]
  },
  {
   "cell_type": "markdown",
   "metadata": {},
   "source": []
  }
 ],
 "metadata": {
  "kernelspec": {
   "display_name": "ocp-models",
   "language": "python",
   "name": "ocp-models"
  },
  "language_info": {
   "codemirror_mode": {
    "name": "ipython",
    "version": 3
   },
   "file_extension": ".py",
   "mimetype": "text/x-python",
   "name": "python",
   "nbconvert_exporter": "python",
   "pygments_lexer": "ipython3",
   "version": "3.9.13"
  },
  "orig_nbformat": 4
 },
 "nbformat": 4,
 "nbformat_minor": 2
}
