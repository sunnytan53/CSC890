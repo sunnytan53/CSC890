{
 "cells": [
  {
   "cell_type": "markdown",
   "metadata": {},
   "source": [
    "# Lec 07: Neural Networks, Gradient Regression, and Quantum Chemistry"
   ]
  },
  {
   "cell_type": "code",
   "execution_count": 2,
   "metadata": {},
   "outputs": [],
   "source": [
    "import matplotlib.pyplot as plt\n",
    "from functools import partial"
   ]
  },
  {
   "cell_type": "markdown",
   "metadata": {},
   "source": [
    "## Goal\n",
    "\n",
    "1. Introduce **(artificial) neural networks** (NN) and the concept of **deep learning**.\n",
    "2. Use NNs to perform gradient regression.\n",
    "3. Connect the concepts we have seen earlier in this class in a walkthrough of a **research paper**. This paper introduces a NN for quantum chemistry called Schnet."
   ]
  },
  {
   "cell_type": "markdown",
   "metadata": {},
   "source": [
    "## Neural Networks\n",
    "\n",
    "1. We'll introduce popular neural network library called `PyTorch`.\n",
    "2. We'll show how to build a simple neural network with PyTorch.\n",
    "3. We'll connect it to the concepts we've seen before."
   ]
  },
  {
   "cell_type": "code",
   "execution_count": 3,
   "metadata": {},
   "outputs": [],
   "source": [
    "# Libraries that we have seen before\n",
    "import numpy as np\n",
    "import jax\n",
    "import jax.numpy as jnp \n",
    "\n",
    "# PyTorch: popular neural network library\n",
    "import torch"
   ]
  },
  {
   "cell_type": "markdown",
   "metadata": {},
   "source": [
    "### Tensors"
   ]
  },
  {
   "cell_type": "code",
   "execution_count": 4,
   "metadata": {},
   "outputs": [
    {
     "name": "stdout",
     "output_type": "stream",
     "text": [
      "[1. 2. 3.]\n",
      "[1. 2. 3.]\n",
      "tensor([1., 2., 3.])\n"
     ]
    }
   ],
   "source": [
    "# Declare a vector of length 3\n",
    "print(np.array([1., 2., 3.]))\n",
    "print(jnp.array([1., 2., 3.]))\n",
    "print(torch.tensor([1., 2., 3.]))"
   ]
  },
  {
   "cell_type": "markdown",
   "metadata": {},
   "source": [
    "Corresponding vector\n",
    "$$\n",
    "\\begin{pmatrix}\n",
    "1 \\\\\n",
    "2 \\\\\n",
    "3\n",
    "\\end{pmatrix}\n",
    "$$"
   ]
  },
  {
   "cell_type": "code",
   "execution_count": 5,
   "metadata": {},
   "outputs": [
    {
     "name": "stdout",
     "output_type": "stream",
     "text": [
      "[[1. 2. 3.]\n",
      " [4. 5. 6.]]\n",
      "[[1. 2. 3.]\n",
      " [4. 5. 6.]]\n",
      "tensor([[1., 2., 3.],\n",
      "        [4., 5., 6.]])\n"
     ]
    }
   ],
   "source": [
    "# Declare a matrix of length 2x3\n",
    "print(np.array([[1., 2., 3.], [4., 5., 6.]]))\n",
    "print(jnp.array([[1., 2., 3.], [4., 5., 6.]]))\n",
    "print(torch.tensor([[1., 2., 3.], [4., 5., 6.]]))"
   ]
  },
  {
   "cell_type": "markdown",
   "metadata": {},
   "source": [
    "Corresponding matrix\n",
    "$$\n",
    "\\begin{pmatrix}\n",
    "1 & 2 & 3 \\\\\n",
    "4 & 5 & 6\n",
    "\\end{pmatrix}\n",
    "$$"
   ]
  },
  {
   "cell_type": "code",
   "execution_count": 6,
   "metadata": {},
   "outputs": [
    {
     "data": {
      "text/plain": [
       "tensor([[1., 2., 3.],\n",
       "        [4., 5., 6.]], dtype=torch.float64)"
      ]
     },
     "execution_count": 6,
     "metadata": {},
     "output_type": "execute_result"
    }
   ],
   "source": [
    "# Converting a numpy array to a torch tensor\n",
    "torch.tensor(np.array([[1., 2., 3.], [4., 5., 6.]]))"
   ]
  },
  {
   "cell_type": "markdown",
   "metadata": {},
   "source": [
    "### Basic Operations"
   ]
  },
  {
   "cell_type": "code",
   "execution_count": 7,
   "metadata": {},
   "outputs": [
    {
     "data": {
      "text/plain": [
       "(tensor([[1., 2., 3.],\n",
       "         [4., 5., 6.]]),\n",
       " tensor([[1., 4.],\n",
       "         [2., 5.],\n",
       "         [3., 6.]]))"
      ]
     },
     "execution_count": 7,
     "metadata": {},
     "output_type": "execute_result"
    }
   ],
   "source": [
    "# Stacking\n",
    "A_1 = torch.tensor([1., 2., 3.])\n",
    "A_2 = torch.tensor([4., 5., 6.])\n",
    "torch.stack([A_1, A_2]), torch.stack([A_1, A_2], dim=1)"
   ]
  },
  {
   "cell_type": "markdown",
   "metadata": {},
   "source": [
    "Corresponding operation\n",
    "$$\n",
    "\\begin{pmatrix}\n",
    "1 \\\\\n",
    "1 \\\\\n",
    "1 \\\\\n",
    "\\end{pmatrix} + \n",
    "\\begin{pmatrix}\n",
    "2 \\\\\n",
    "2 \\\\\n",
    "2 \\\\\n",
    "\\end{pmatrix} = \n",
    "\\begin{pmatrix}\n",
    "3 \\\\\n",
    "3 \\\\\n",
    "3 \\\\\n",
    "\\end{pmatrix}\n",
    "$$"
   ]
  },
  {
   "cell_type": "code",
   "execution_count": 8,
   "metadata": {},
   "outputs": [
    {
     "data": {
      "text/plain": [
       "tensor([[1., 2., 3.],\n",
       "        [4., 5., 6.]])"
      ]
     },
     "execution_count": 8,
     "metadata": {},
     "output_type": "execute_result"
    }
   ],
   "source": [
    "A = torch.tensor([[1., 2., 3.], [4., 5., 6.]])\n",
    "B = torch.ones(2, 3)\n",
    "A * B"
   ]
  },
  {
   "cell_type": "code",
   "execution_count": 9,
   "metadata": {},
   "outputs": [
    {
     "data": {
      "text/plain": [
       "tensor([3., 3., 3.])"
      ]
     },
     "execution_count": 9,
     "metadata": {},
     "output_type": "execute_result"
    }
   ],
   "source": [
    "# Element-wise operations\n",
    "x = torch.tensor([1., 1., 1.]) \n",
    "y = torch.tensor([2., 2., 2.]) \n",
    "x + y"
   ]
  },
  {
   "cell_type": "markdown",
   "metadata": {},
   "source": [
    "$$\n",
    "\\begin{pmatrix}\n",
    "1 & 2 & 3 \\\\\n",
    "4 & 5 & 6\n",
    "\\end{pmatrix} \\odot\n",
    "\\begin{pmatrix}\n",
    "1 & 1 & 1 \\\\\n",
    "1 & 1 & 1\n",
    "\\end{pmatrix} = \n",
    "\\begin{pmatrix}\n",
    "1 & 2 & 3\\\\\n",
    "4 & 5 & 6\n",
    "\\end{pmatrix}\n",
    "$$"
   ]
  },
  {
   "cell_type": "code",
   "execution_count": 10,
   "metadata": {},
   "outputs": [
    {
     "data": {
      "text/plain": [
       "tensor([ 6., 15.])"
      ]
     },
     "execution_count": 10,
     "metadata": {},
     "output_type": "execute_result"
    }
   ],
   "source": [
    "# Matrix multiplication\n",
    "A = torch.tensor([[1., 2., 3.], [4., 5., 6.]])\n",
    "x = torch.tensor([1., 1., 1.]) \n",
    "A @ x"
   ]
  },
  {
   "cell_type": "markdown",
   "metadata": {},
   "source": [
    "$$\n",
    "\\begin{pmatrix}\n",
    "1 & 2 & 3\\\\\n",
    "4 & 5 & 6\n",
    "\\end{pmatrix}\n",
    "\\begin{pmatrix}\n",
    "1 \\\\\n",
    "1 \\\\\n",
    "1 \\\\\n",
    "\\end{pmatrix}\n",
    "=\n",
    "\\begin{pmatrix}\n",
    "6 \\\\\n",
    "15 \\\\\n",
    "\\end{pmatrix}\n",
    "$$"
   ]
  },
  {
   "cell_type": "markdown",
   "metadata": {},
   "source": [
    "### Summary\n",
    "\n",
    "1. Like Numpy and Jax, PyTorch gives us operations for manipulating vectors and matrices.\n",
    "2. Like Jax, PyTorch will also give us the ability to perform automatic differentiation.\n",
    "3. We'll illustrate with linear regression first."
   ]
  },
  {
   "cell_type": "markdown",
   "metadata": {},
   "source": [
    "### Linear Regression in PyTorch from scratch\n",
    "\n",
    "First let's recall our 3 point dataset."
   ]
  },
  {
   "cell_type": "code",
   "execution_count": 11,
   "metadata": {},
   "outputs": [
    {
     "data": {
      "text/plain": [
       "[<matplotlib.lines.Line2D at 0x16a1320b0>]"
      ]
     },
     "execution_count": 11,
     "metadata": {},
     "output_type": "execute_result"
    },
    {
     "data": {
      "image/png": "[encoded data removed]",
      "text/plain": [
       "<Figure size 640x480 with 1 Axes>"
      ]
     },
     "metadata": {},
     "output_type": "display_data"
    }
   ],
   "source": [
    "x1 = [0.3]                          # each point has dimension 1\n",
    "x2 = [-0.5]               \n",
    "x3 = [.1]                \n",
    "y = torch.tensor([0.2, -.1, 1.3])   # target values\n",
    "X = torch.tensor([x1, x2, x3])      # each row is one input\n",
    "\n",
    "plt.plot(X[:,0], y, marker='o', linestyle='none')"
   ]
  },
  {
   "cell_type": "code",
   "execution_count": 12,
   "metadata": {},
   "outputs": [],
   "source": [
    "# Compare with numpy version \n",
    "#\n",
    "# def fit_regression(X, y):\n",
    "#     A = np.concatenate([X, np.ones((X.shape[0],1))], axis=1)\n",
    "#     return np.linalg.solve(A.transpose() @ A, A.transpose() @ y)\n",
    "\n",
    "def fit_regression(X: torch.tensor, y: torch.tensor) -> torch.tensor:\n",
    "    A = torch.cat([X, torch.ones((X.shape[0],1))], dim=1)\n",
    "    return torch.linalg.solve(A.t() @ A, A.t() @ y)"
   ]
  },
  {
   "cell_type": "code",
   "execution_count": 13,
   "metadata": {},
   "outputs": [
    {
     "data": {
      "text/plain": [
       "tensor([0.8269, 0.4942])"
      ]
     },
     "execution_count": 13,
     "metadata": {},
     "output_type": "execute_result"
    }
   ],
   "source": [
    "# Solve for weights\n",
    "weights = fit_regression(X, y)\n",
    "weights"
   ]
  },
  {
   "cell_type": "code",
   "execution_count": 14,
   "metadata": {},
   "outputs": [],
   "source": [
    "# Perform predictions\n",
    "def prediction(weights, x):\n",
    "    return x.t() @ weights[:-1] + weights[-1]"
   ]
  },
  {
   "cell_type": "code",
   "execution_count": 15,
   "metadata": {},
   "outputs": [
    {
     "data": {
      "text/plain": [
       "<matplotlib.legend.Legend at 0x16a259ff0>"
      ]
     },
     "execution_count": 15,
     "metadata": {},
     "output_type": "execute_result"
    },
    {
     "data": {
      "image/png": "[encoded data removed]",
      "text/plain": [
       "<Figure size 640x480 with 1 Axes>"
      ]
     },
     "metadata": {},
     "output_type": "display_data"
    }
   ],
   "source": [
    "# Plot predictions\n",
    "f_hat = partial(prediction, weights)\n",
    "plt.plot(torch.linspace(-1.0, 1.0, 10), [f_hat(torch.tensor([x])) for x in torch.linspace(-1.0, 1.0, 10)], label='Predictions')\n",
    "plt.plot(X, y, marker='o', linestyle='None', label='Dataset')\n",
    "plt.legend()"
   ]
  },
  {
   "cell_type": "markdown",
   "metadata": {},
   "source": [
    "### What about using gradient descent?"
   ]
  },
  {
   "cell_type": "code",
   "execution_count": 16,
   "metadata": {},
   "outputs": [],
   "source": [
    "# Create the model. It's simply the prediction function.\n",
    "def model(weights: torch.tensor, bias: torch.tensor, x: torch.tensor) -> torch.tensor:\n",
    "    return x @ weights.t() + bias"
   ]
  },
  {
   "cell_type": "code",
   "execution_count": 17,
   "metadata": {},
   "outputs": [],
   "source": [
    "# The traditional mean-squared error loss\n",
    "def mse_loss(model, weights: torch.tensor, bias: torch.tensor, X: torch.tensor, y: torch.tensor):\n",
    "    pred_y = model(weights, bias, X)\n",
    "    loss = ((pred_y - y.reshape(-1, 1))**2).sum()\n",
    "    return loss"
   ]
  },
  {
   "cell_type": "code",
   "execution_count": 18,
   "metadata": {},
   "outputs": [],
   "source": [
    "def sgd(model, X: torch.tensor, y: torch.tensor, lr=1e-4, niter=50):\n",
    "    weights = torch.randn(1, 1, requires_grad=True)\n",
    "    bias = torch.randn(1, requires_grad=True)\n",
    "    for i in range(niter):\n",
    "        # 1. Compute the loss\n",
    "        loss = mse_loss(model, weights, bias, X, y)\n",
    "        # 2. Tell PyTorch to keep the gradients of all intermediate values\n",
    "        weights.retain_grad()\n",
    "        bias.retain_grad()\n",
    "        # 3. Tell PyTorch to compute the gradient with reverse-mode AD\n",
    "        loss.backward()\n",
    "        # 4. Perform the optimization step.\n",
    "        weights = weights - lr * weights.grad\n",
    "        bias = bias - lr * bias.grad\n",
    "    return weights, bias"
   ]
  },
  {
   "cell_type": "code",
   "execution_count": 19,
   "metadata": {},
   "outputs": [
    {
     "data": {
      "text/plain": [
       "(tensor([[0.8001]], grad_fn=<SubBackward0>),\n",
       " tensor([0.4932], grad_fn=<SubBackward0>))"
      ]
     },
     "execution_count": 19,
     "metadata": {},
     "output_type": "execute_result"
    }
   ],
   "source": [
    "weights, bias = sgd(model, X, y, lr=1e-1)\n",
    "weights, bias"
   ]
  },
  {
   "cell_type": "code",
   "execution_count": 20,
   "metadata": {},
   "outputs": [
    {
     "name": "stderr",
     "output_type": "stream",
     "text": [
      "/opt/homebrew/Caskroom/miniconda/base/envs/csc890/lib/python3.10/site-packages/numpy/core/shape_base.py:65: FutureWarning: The input object of type 'Tensor' is an array-like implementing one of the corresponding protocols (`__array__`, `__array_interface__` or `__array_struct__`); but not a sequence (or 0-D). In the future, this object will be coerced as if it was first converted using `np.array(obj)`. To retain the old behaviour, you have to either modify the type 'Tensor', or assign to an empty array created with `np.empty(correct_shape, dtype=object)`.\n",
      "  ary = asanyarray(ary)\n",
      "/opt/homebrew/Caskroom/miniconda/base/envs/csc890/lib/python3.10/site-packages/numpy/core/shape_base.py:65: VisibleDeprecationWarning: Creating an ndarray from ragged nested sequences (which is a list-or-tuple of lists-or-tuples-or ndarrays with different lengths or shapes) is deprecated. If you meant to do this, you must specify 'dtype=object' when creating the ndarray.\n",
      "  ary = asanyarray(ary)\n"
     ]
    },
    {
     "data": {
      "text/plain": [
       "<matplotlib.legend.Legend at 0x16a2f4e20>"
      ]
     },
     "execution_count": 20,
     "metadata": {},
     "output_type": "execute_result"
    },
    {
     "data": {
      "image/png": "[encoded data removed]",
      "text/plain": [
       "<Figure size 640x480 with 1 Axes>"
      ]
     },
     "metadata": {},
     "output_type": "display_data"
    }
   ],
   "source": [
    "# Plot predictions\n",
    "def prediction(weights: torch.tensor, bias: torch.tensor, x: torch.tensor) -> torch.tensor:\n",
    "    # detach is a PyTorch specific function related to its automatic-differentiation capabilities\n",
    "    return model(weights, bias, x).detach()\n",
    "\n",
    "f_hat = partial(prediction, weights, bias)\n",
    "plt.plot(torch.linspace(-1.0, 1.0, 10), [f_hat(torch.tensor([x])) for x in torch.linspace(-1.0, 1.0, 10)], label='Predictions')\n",
    "plt.plot(X.detach(), y.detach(), marker='o', linestyle='None', label='Dataset')\n",
    "plt.legend()"
   ]
  },
  {
   "cell_type": "markdown",
   "metadata": {},
   "source": [
    "### Linear Regression in PyTorch Using Neural Network Builtins"
   ]
  },
  {
   "cell_type": "code",
   "execution_count": 21,
   "metadata": {},
   "outputs": [],
   "source": [
    "import torch.nn as nn\n",
    "\n",
    "class LinearRegression(nn.Module):\n",
    "    def __init__(self):\n",
    "        super(LinearRegression, self).__init__()\n",
    "        # 1. We construct a 1 weight for the slope\n",
    "        # 2. We construct 1 weight for the bias\n",
    "        self.weights = nn.Linear(1, 1)\n",
    "\n",
    "    def forward(self, x):\n",
    "        # Notice that we are doing a simple linear transformation here\n",
    "        return self.weights(x)"
   ]
  },
  {
   "cell_type": "code",
   "execution_count": 22,
   "metadata": {},
   "outputs": [
    {
     "name": "stdout",
     "output_type": "stream",
     "text": [
      "slope Parameter containing:\n",
      "tensor([[-0.7189]], requires_grad=True)\n",
      "offset Parameter containing:\n",
      "tensor([-0.7936], requires_grad=True)\n"
     ]
    }
   ],
   "source": [
    "# 1. Initialize the model\n",
    "model = LinearRegression()\n",
    "# 2. Print the model weights\n",
    "print(\"slope\", model.weights.weight)\n",
    "print(\"offset\", model.weights.bias)"
   ]
  },
  {
   "cell_type": "code",
   "execution_count": 23,
   "metadata": {},
   "outputs": [
    {
     "data": {
      "text/plain": [
       "tensor([-1.5125], grad_fn=<AddBackward0>)"
      ]
     },
     "execution_count": 23,
     "metadata": {},
     "output_type": "execute_result"
    }
   ],
   "source": [
    "# 3. Evaluate the model\n",
    "model(torch.tensor([1.0]))"
   ]
  },
  {
   "cell_type": "code",
   "execution_count": 24,
   "metadata": {},
   "outputs": [
    {
     "name": "stdout",
     "output_type": "stream",
     "text": [
      "Initial model parameters ...\n",
      "Parameter containing:\n",
      "tensor([[-0.7189]], requires_grad=True)\n",
      "Parameter containing:\n",
      "tensor([-0.7936], requires_grad=True)\n"
     ]
    }
   ],
   "source": [
    "# 4. We can check the model parameters\n",
    "print(\"Initial model parameters ...\")\n",
    "for parameter in model.parameters():\n",
    "    print(parameter)"
   ]
  },
  {
   "cell_type": "code",
   "execution_count": 25,
   "metadata": {},
   "outputs": [],
   "source": [
    "from torch import optim\n",
    "\n",
    "# 1. Create the model\n",
    "model = LinearRegression()\n",
    "# 2. Define the loss\n",
    "mse_loss = torch.nn.MSELoss()\n",
    "# 3. Select an optimizer\n",
    "optimizer = optim.SGD(model.parameters(), lr=1e-1)\n",
    "# 4. Design training procedure\n",
    "for i in range(200):\n",
    "    # a. Use the model to form a prediction on the dataset X\n",
    "    #    Note that we haven't used batching where we split the dataset X into chunks\n",
    "    pred_y = model(X)\n",
    "    # b. Compute the loss\n",
    "    loss = mse_loss(pred_y, y.reshape(-1, 1))\n",
    "    # c. Stateful programming in PyTorch, again ...\n",
    "    #    The optimizer mutates all the tensors present in the model to propagate gradient information.\n",
    "    #    Thus we need to \"zero\" all the gradients.\n",
    "    optimizer.zero_grad()\n",
    "    # d. Compute the gradient of the model w.r.t. the loss function.\n",
    "    loss.backward()\n",
    "    # e. Take an optimization step using the optimizer.\n",
    "    optimizer.step()"
   ]
  },
  {
   "cell_type": "markdown",
   "metadata": {},
   "source": [
    "#### Checking the learned model parameters"
   ]
  },
  {
   "cell_type": "code",
   "execution_count": 26,
   "metadata": {},
   "outputs": [
    {
     "name": "stdout",
     "output_type": "stream",
     "text": [
      "Learned model parameters ...\n",
      "Parameter containing:\n",
      "tensor([[0.8212]], requires_grad=True)\n",
      "Parameter containing:\n",
      "tensor([0.4940], requires_grad=True)\n"
     ]
    }
   ],
   "source": [
    "print(\"Learned model parameters ...\")\n",
    "for parameter in model.parameters():\n",
    "    print(parameter)"
   ]
  },
  {
   "cell_type": "markdown",
   "metadata": {},
   "source": [
    "#### Plotting the learned model"
   ]
  },
  {
   "cell_type": "code",
   "execution_count": 27,
   "metadata": {},
   "outputs": [
    {
     "data": {
      "text/plain": [
       "<matplotlib.legend.Legend at 0x16a4d7df0>"
      ]
     },
     "execution_count": 27,
     "metadata": {},
     "output_type": "execute_result"
    },
    {
     "data": {
      "image/png": "[encoded data removed]",
      "text/plain": [
       "<Figure size 640x480 with 1 Axes>"
      ]
     },
     "metadata": {},
     "output_type": "display_data"
    }
   ],
   "source": [
    "plt.plot(torch.linspace(-1.0, 1.0, 10), [model(torch.tensor([x])).detach() for x in torch.linspace(-1.0, 1.0, 10)], label='Predictions')\n",
    "plt.plot(X.detach(), y.detach(), marker='o', linestyle='None', label='Dataset')\n",
    "plt.legend()"
   ]
  },
  {
   "cell_type": "markdown",
   "metadata": {},
   "source": [
    "### Summary\n",
    "\n",
    "1. The PyTorch nn module provides a clean interface for wrapping up a model and it's learneable weights.\n",
    "2. The PyTorch usage of `.backward()` tells the underlying automatic differentiation engine to compute gradies and store in the `.grad` variable. When using the nn module, all of this is hidden from the user.\n",
    "3. The PyTorch `optim` module gives access to many different optimizers including stochastic gradient descent."
   ]
  },
  {
   "cell_type": "markdown",
   "metadata": {},
   "source": [
    "## Neural Networks\n",
    "\n",
    "The real power of a a neural network is to\n",
    "1. Introduce non-linearities so that non-linear models can be formed.\n",
    "2. Stack layers so that these models can be trained more easily."
   ]
  },
  {
   "cell_type": "code",
   "execution_count": 28,
   "metadata": {},
   "outputs": [],
   "source": [
    "class TwoLayerNN(nn.Module):\n",
    "    def __init__(self):\n",
    "        super(TwoLayerNN, self).__init__()\n",
    "        self.layer1 = nn.Linear(64, 8)  # First layer of parameters\n",
    "        self.layer2 = nn.Linear(8, 1)   # Second layer of parameters\n",
    "\n",
    "    def forward(self, x):\n",
    "        # Linear transformation 1\n",
    "        t1 = self.layer1(x)\n",
    "        # Non-linearity 1\n",
    "        t2 = nn.Sigmoid()(t1)\n",
    "        # Linear transformation 2\n",
    "        t3 = self.layer2(t2)\n",
    "        # Non-linearity 2\n",
    "        t4 = nn.Sigmoid()(t3)\n",
    "        return t4"
   ]
  },
  {
   "cell_type": "code",
   "execution_count": 29,
   "metadata": {},
   "outputs": [],
   "source": [
    "model = TwoLayerNN()"
   ]
  },
  {
   "cell_type": "code",
   "execution_count": 30,
   "metadata": {},
   "outputs": [
    {
     "data": {
      "text/plain": [
       "tensor([0.5360], grad_fn=<SigmoidBackward0>)"
      ]
     },
     "execution_count": 30,
     "metadata": {},
     "output_type": "execute_result"
    }
   ],
   "source": [
    "model(torch.randn(64))"
   ]
  },
  {
   "cell_type": "code",
   "execution_count": 31,
   "metadata": {},
   "outputs": [
    {
     "name": "stdout",
     "output_type": "stream",
     "text": [
      "Initial model parameters ...\n",
      "Parameter containing:\n",
      "tensor([[ 0.0204,  0.0953,  0.1045, -0.1053,  0.0028, -0.1047,  0.0616,  0.0812,\n",
      "          0.0622, -0.0396, -0.0449, -0.0698, -0.1138, -0.0804,  0.0666,  0.0168,\n",
      "          0.0284, -0.0266, -0.0083, -0.0577, -0.0789,  0.1046, -0.0491, -0.0229,\n",
      "         -0.0528, -0.1151, -0.0566,  0.0711,  0.1249, -0.0049, -0.0164,  0.0313,\n",
      "         -0.0804,  0.1151, -0.0434, -0.0781, -0.1035,  0.1211,  0.1061, -0.0012,\n",
      "          0.1035, -0.0562, -0.0617,  0.0407,  0.0886, -0.0164, -0.1068, -0.0815,\n",
      "         -0.0700,  0.0496, -0.1105,  0.0961, -0.0709,  0.0368, -0.0063, -0.0505,\n",
      "         -0.0445,  0.0901, -0.0316,  0.1162, -0.0877,  0.0751,  0.0716,  0.1123],\n",
      "        [-0.0175, -0.0374, -0.0639, -0.1107, -0.0742, -0.0925, -0.1144, -0.0018,\n",
      "          0.0597,  0.0849, -0.1021, -0.0019, -0.0134, -0.0930,  0.0813,  0.0301,\n",
      "          0.0626, -0.0695,  0.0181, -0.0562, -0.0538,  0.0487,  0.0051,  0.0472,\n",
      "          0.0803, -0.0763, -0.0213, -0.1179, -0.0349,  0.0073,  0.0964, -0.0348,\n",
      "         -0.0944, -0.0955, -0.0586, -0.0798, -0.0447,  0.0232,  0.0738, -0.0241,\n",
      "          0.0477, -0.0947, -0.0033, -0.1225, -0.0751, -0.0367,  0.0407,  0.0759,\n",
      "         -0.0353, -0.0718,  0.0724,  0.0029,  0.0183, -0.0550, -0.1183,  0.0935,\n",
      "         -0.1130, -0.0731,  0.1064,  0.1096,  0.0156,  0.0322,  0.0021, -0.0529],\n",
      "        [-0.0726, -0.0887, -0.0984,  0.0784,  0.0038,  0.0853,  0.0161,  0.0823,\n",
      "         -0.0554, -0.0697, -0.0062, -0.0735,  0.1055, -0.0517,  0.0287,  0.0383,\n",
      "         -0.0314, -0.0100,  0.0323, -0.0031, -0.1243,  0.0568, -0.0871,  0.0515,\n",
      "          0.1056, -0.0534, -0.0983,  0.1111, -0.0693, -0.0289,  0.1021, -0.0563,\n",
      "         -0.0829, -0.0809, -0.0123,  0.0076, -0.0271,  0.1181,  0.0881, -0.0093,\n",
      "         -0.0018, -0.0621, -0.0932, -0.0054, -0.1037,  0.0935, -0.0175,  0.0306,\n",
      "          0.0506, -0.0194, -0.0971,  0.0634, -0.0813,  0.0690, -0.1188, -0.0529,\n",
      "          0.0571,  0.0994,  0.0032,  0.1180, -0.0160,  0.1102, -0.0861, -0.0693],\n",
      "        [-0.0789,  0.1075, -0.0286, -0.0541,  0.1044, -0.1195,  0.0906,  0.0481,\n",
      "         -0.0081,  0.0515, -0.0915, -0.0072, -0.0618, -0.0770, -0.0901,  0.0750,\n",
      "         -0.0949,  0.1244,  0.0860,  0.1082, -0.0406, -0.0383, -0.0685, -0.0122,\n",
      "         -0.0899,  0.0316, -0.1221, -0.0428,  0.0567, -0.0380, -0.0878,  0.0807,\n",
      "         -0.0827, -0.1008,  0.0052, -0.0361,  0.0195,  0.0411, -0.1108,  0.0808,\n",
      "          0.0721,  0.1190, -0.0943,  0.0574,  0.1190, -0.0020,  0.0774, -0.1011,\n",
      "         -0.0912, -0.0419,  0.0931, -0.0880, -0.0897,  0.0180, -0.0345,  0.0538,\n",
      "         -0.0827,  0.0223, -0.1049, -0.0774,  0.0318,  0.0047,  0.0425, -0.1211],\n",
      "        [-0.1082, -0.0393, -0.0044, -0.0339, -0.1233, -0.0161, -0.0669, -0.1242,\n",
      "          0.0385, -0.0596,  0.1032,  0.0844,  0.0702, -0.0959, -0.0061,  0.0235,\n",
      "          0.0131, -0.0437,  0.0296,  0.0224, -0.0381,  0.0458, -0.0854,  0.0906,\n",
      "          0.0257,  0.0495,  0.0451, -0.0234,  0.1037,  0.0181,  0.0972,  0.0012,\n",
      "         -0.0314, -0.0758,  0.0414,  0.0500, -0.0358, -0.0539, -0.0301,  0.0651,\n",
      "          0.1190,  0.0688,  0.0952,  0.0194,  0.1229,  0.0961,  0.0548, -0.0552,\n",
      "          0.1178,  0.1008, -0.1019,  0.0210, -0.1142,  0.0350,  0.1200,  0.1136,\n",
      "         -0.0861, -0.0296,  0.0993, -0.0545, -0.0874, -0.1007,  0.1078,  0.0080],\n",
      "        [-0.0473,  0.0281, -0.0327, -0.1155,  0.0770,  0.0291,  0.0657,  0.1126,\n",
      "          0.0679,  0.0783,  0.1074,  0.1240, -0.1006,  0.0662,  0.0399,  0.1117,\n",
      "         -0.0024, -0.0718,  0.0854, -0.0892,  0.0649,  0.0148,  0.0233, -0.0115,\n",
      "          0.0801, -0.0281, -0.0693, -0.0139,  0.0212,  0.0190,  0.0650,  0.0795,\n",
      "         -0.0390, -0.0586,  0.0455,  0.0123,  0.0020, -0.0341, -0.0084,  0.0993,\n",
      "         -0.0485, -0.0739,  0.1121, -0.0780,  0.0790, -0.0163,  0.0490,  0.0180,\n",
      "         -0.1163, -0.0174, -0.0170,  0.0265, -0.0425,  0.1007,  0.1215, -0.0777,\n",
      "         -0.0327,  0.0760, -0.0696,  0.0070,  0.0756,  0.0782,  0.1159,  0.1171],\n",
      "        [-0.0518,  0.0680, -0.0838, -0.1121, -0.0128,  0.0340, -0.0552,  0.0141,\n",
      "         -0.0924,  0.0110,  0.0190,  0.0867,  0.1247, -0.1095, -0.0818, -0.0639,\n",
      "          0.0531, -0.0288,  0.1150, -0.0903,  0.0012, -0.0910,  0.0509,  0.0037,\n",
      "         -0.0398, -0.0253, -0.0559,  0.0523,  0.0656, -0.0877, -0.0934, -0.1098,\n",
      "          0.0223, -0.0563,  0.0491, -0.0632,  0.1052, -0.1208, -0.1159,  0.0207,\n",
      "         -0.0047,  0.0445, -0.0315,  0.1033,  0.0900, -0.1146, -0.0804, -0.0880,\n",
      "          0.1249,  0.0122, -0.0243, -0.1003,  0.0656, -0.0800,  0.0727,  0.0520,\n",
      "         -0.0914, -0.0326, -0.0027, -0.0780,  0.0442, -0.1057,  0.0710,  0.0674],\n",
      "        [-0.0345, -0.1145,  0.0642, -0.1082,  0.0107, -0.0903, -0.0588,  0.0866,\n",
      "         -0.1073,  0.0212, -0.0315,  0.0778,  0.1169, -0.0890,  0.0668, -0.0318,\n",
      "         -0.0880, -0.1228, -0.1008, -0.0192,  0.1042,  0.0233, -0.1098,  0.0727,\n",
      "         -0.0883, -0.0775, -0.0735, -0.0778,  0.0141, -0.0268,  0.1013, -0.0334,\n",
      "         -0.0436, -0.1219,  0.0030, -0.0873, -0.0896, -0.1029,  0.0632, -0.0048,\n",
      "          0.0222,  0.1140, -0.0439,  0.0691, -0.1042,  0.0582,  0.0891,  0.0206,\n",
      "         -0.1050,  0.0599, -0.0998, -0.0112,  0.0759,  0.0511,  0.0473, -0.0657,\n",
      "         -0.0450,  0.0075, -0.1163, -0.0495, -0.0849, -0.0725,  0.0697, -0.1239]],\n",
      "       requires_grad=True)\n",
      "Parameter containing:\n",
      "tensor([-0.0465, -0.0690, -0.1166, -0.0396, -0.1011,  0.1177,  0.0717, -0.0814],\n",
      "       requires_grad=True)\n",
      "Parameter containing:\n",
      "tensor([[ 0.1924, -0.0167,  0.1699,  0.1913,  0.2047, -0.0136,  0.3349, -0.2259]],\n",
      "       requires_grad=True)\n",
      "Parameter containing:\n",
      "tensor([-0.1301], requires_grad=True)\n"
     ]
    }
   ],
   "source": [
    "print(\"Initial model parameters ...\")\n",
    "for parameter in model.parameters():\n",
    "    print(parameter)"
   ]
  },
  {
   "cell_type": "markdown",
   "metadata": {},
   "source": [
    "### Mathematical Notation\n",
    "\n",
    "The neural network we have defined is $f$\n",
    "$$\n",
    "f(x; A_1, b_1, A_2, b_2) = \\sigma(A_2 \\sigma(A_1 x + b_1) + b_2)\n",
    "$$\n",
    "where\n",
    "1. $A_1$ and $b_1$ are associated with `model.layer1.weight` and `model.layer1.bias` respectively\n",
    "2. $A_2$ and $b_2$ are associated with `model.layer2.weight` and `model.layer2.bias` respectively\n",
    "3. $\\sigma$ is the sigmoid activation function\n"
   ]
  },
  {
   "cell_type": "code",
   "execution_count": 32,
   "metadata": {},
   "outputs": [
    {
     "name": "stdout",
     "output_type": "stream",
     "text": [
      "Learned model parameters ...\n",
      "Parameter containing:\n",
      "tensor([[ 0.0436, -0.1162, -0.0067,  0.0859,  0.0430, -0.0962,  0.0350, -0.0854,\n",
      "          0.0920,  0.1026,  0.0844,  0.0456, -0.1027, -0.0337, -0.1222, -0.1073,\n",
      "          0.0079, -0.0745,  0.0404,  0.0334, -0.0294, -0.0933,  0.1012,  0.0775,\n",
      "          0.0379, -0.0911,  0.0033,  0.0356, -0.0576, -0.0368, -0.1088, -0.0708,\n",
      "          0.0028, -0.0291, -0.0342, -0.1172, -0.1013,  0.0643,  0.0964, -0.0946,\n",
      "         -0.0136,  0.0377, -0.0969,  0.1189, -0.0638,  0.0914,  0.0104, -0.0063,\n",
      "         -0.0385,  0.0934, -0.1115,  0.0453,  0.0560, -0.0982,  0.1246,  0.0164,\n",
      "         -0.0622,  0.0878,  0.0791,  0.0959,  0.0234,  0.0155, -0.0210,  0.0071],\n",
      "        [-0.0318, -0.0863,  0.1200,  0.1281, -0.0238,  0.1073, -0.0704, -0.0962,\n",
      "         -0.0487, -0.0076,  0.0747, -0.0294, -0.0732, -0.0648, -0.0468, -0.1199,\n",
      "          0.1056,  0.0227,  0.0141, -0.0343, -0.0502, -0.0406, -0.0934,  0.0961,\n",
      "          0.0959,  0.0233,  0.0268,  0.0961, -0.0152,  0.1271,  0.0091,  0.0504,\n",
      "         -0.1141,  0.0723,  0.0148, -0.1054,  0.0884,  0.0952, -0.0617,  0.0692,\n",
      "          0.0140, -0.0681,  0.0780,  0.1086,  0.1182, -0.0584, -0.0370, -0.0369,\n",
      "         -0.0196, -0.0223,  0.0528,  0.0789,  0.1084,  0.0182,  0.0343, -0.0567,\n",
      "         -0.0633, -0.0544,  0.0247, -0.0535, -0.0178,  0.0460,  0.0259,  0.0854],\n",
      "        [-0.0816,  0.0848,  0.0765,  0.0478,  0.0290, -0.0229,  0.0044, -0.0622,\n",
      "          0.0466, -0.0786,  0.0645, -0.0792,  0.0786, -0.0467, -0.0164,  0.0127,\n",
      "          0.1122,  0.0147,  0.0355, -0.0430, -0.0205, -0.0150,  0.0599, -0.0025,\n",
      "          0.1211,  0.1115, -0.0438, -0.0368,  0.0805,  0.0136,  0.0880, -0.0729,\n",
      "          0.0618, -0.0193, -0.0263, -0.0897,  0.0033,  0.1114, -0.0807,  0.0457,\n",
      "         -0.0081,  0.1125, -0.0631,  0.0075, -0.0269, -0.0502,  0.1099,  0.0784,\n",
      "         -0.0564, -0.1158, -0.0935,  0.0707, -0.0844, -0.0244, -0.0253, -0.0300,\n",
      "         -0.0382,  0.0393, -0.0575,  0.0237, -0.0176,  0.0935,  0.0532, -0.0554],\n",
      "        [-0.0733,  0.0493, -0.0398,  0.0443,  0.0582, -0.0681, -0.0394,  0.0254,\n",
      "         -0.0585,  0.1201, -0.1159,  0.0686,  0.0198,  0.0043,  0.0530, -0.0391,\n",
      "          0.1146,  0.0562,  0.0357,  0.0913, -0.0696,  0.0723,  0.0455,  0.0223,\n",
      "          0.0988, -0.0114, -0.0578, -0.0038, -0.0168, -0.0637,  0.1030,  0.0071,\n",
      "         -0.0697, -0.0960,  0.1204, -0.0697,  0.1181, -0.0626,  0.0057, -0.0736,\n",
      "          0.0494, -0.0145, -0.0228,  0.0261,  0.0879,  0.1019,  0.0106, -0.0613,\n",
      "         -0.0618,  0.0713, -0.0265,  0.0382,  0.0096, -0.0660, -0.0725,  0.1121,\n",
      "          0.0571,  0.1239, -0.0242, -0.0667, -0.0481, -0.0459,  0.1213,  0.0782],\n",
      "        [-0.0242,  0.0065, -0.0525, -0.0037, -0.1017, -0.0528,  0.0057,  0.0450,\n",
      "          0.0892, -0.0464,  0.0904,  0.0192,  0.0203,  0.0588,  0.0962, -0.0902,\n",
      "         -0.0506, -0.0266, -0.1175,  0.0947, -0.0070,  0.0957,  0.0407, -0.0176,\n",
      "         -0.0472, -0.1071,  0.0228,  0.0685, -0.0916,  0.0569, -0.1295,  0.0787,\n",
      "         -0.0363,  0.0035,  0.0688,  0.0488, -0.1140, -0.0641, -0.1113,  0.0348,\n",
      "          0.0165,  0.0262,  0.0070, -0.0256,  0.0507,  0.0870,  0.0438,  0.0607,\n",
      "          0.0213, -0.0812,  0.0048, -0.0067, -0.0235, -0.0725,  0.0489, -0.1165,\n",
      "         -0.0245,  0.1006,  0.0229,  0.0475, -0.0297,  0.0757, -0.0031, -0.0980],\n",
      "        [-0.0545, -0.0254, -0.1131,  0.0669, -0.0601, -0.0039,  0.1080, -0.0870,\n",
      "         -0.0402, -0.0762, -0.0148, -0.0545,  0.0294, -0.0625,  0.0914,  0.0330,\n",
      "         -0.0612, -0.0683,  0.0208, -0.0589, -0.0815, -0.0679, -0.0077,  0.0811,\n",
      "          0.0589,  0.0582, -0.0025, -0.1109, -0.0002,  0.0210, -0.1097,  0.0483,\n",
      "          0.1240, -0.0721, -0.0189,  0.0228,  0.0547,  0.1143, -0.0610, -0.1191,\n",
      "          0.0362, -0.0560, -0.0752,  0.0662,  0.1134,  0.1185, -0.0147,  0.0352,\n",
      "         -0.0677, -0.0702, -0.0719, -0.1030,  0.0970,  0.1192, -0.1103, -0.0691,\n",
      "         -0.0047,  0.0346, -0.0406, -0.1230,  0.1020, -0.1022,  0.1072, -0.0153],\n",
      "        [-0.0486, -0.0134,  0.0321, -0.0010,  0.0120,  0.0645, -0.0017, -0.0926,\n",
      "          0.0395,  0.0814, -0.0320, -0.0957,  0.0563,  0.0309,  0.0541, -0.0735,\n",
      "          0.1078, -0.1084, -0.0285,  0.0629,  0.1191, -0.0548, -0.0185,  0.0026,\n",
      "          0.0477,  0.0930, -0.0196,  0.0943, -0.0369,  0.0796, -0.0679,  0.0519,\n",
      "         -0.1101,  0.0749,  0.0737, -0.0108, -0.1159,  0.1145,  0.1235,  0.1200,\n",
      "         -0.0773,  0.0443, -0.0130, -0.0879, -0.0818, -0.0472,  0.0607, -0.1114,\n",
      "          0.0422,  0.0446,  0.0462,  0.0188, -0.0899,  0.1036, -0.0467, -0.0593,\n",
      "         -0.0817, -0.0446, -0.0198, -0.0499,  0.0086, -0.1116,  0.0908, -0.0334],\n",
      "        [ 0.1146, -0.0184, -0.1220, -0.0826, -0.1012, -0.0998,  0.0503,  0.1143,\n",
      "         -0.0191,  0.0628,  0.0023,  0.1114, -0.0600, -0.0356, -0.0480,  0.0987,\n",
      "          0.0309,  0.0272, -0.1131,  0.0016,  0.0933,  0.1145, -0.0366,  0.0427,\n",
      "          0.0946, -0.0524,  0.0281,  0.0807,  0.0692, -0.1153,  0.0884, -0.1321,\n",
      "          0.0286, -0.0687, -0.0170,  0.0034,  0.0379, -0.1082, -0.0281, -0.1032,\n",
      "          0.0150, -0.1016, -0.0943,  0.0798, -0.0724, -0.0433, -0.0197,  0.0185,\n",
      "          0.0540,  0.0411,  0.1046, -0.0509,  0.0669,  0.1184,  0.1006, -0.0364,\n",
      "          0.0539,  0.0313, -0.0980,  0.0156, -0.0840, -0.0727, -0.0268, -0.0472]],\n",
      "       requires_grad=True)\n",
      "Parameter containing:\n",
      "tensor([ 0.1441,  0.0754, -0.0210, -0.0313,  0.2168, -0.1453,  0.0950,  0.1465],\n",
      "       requires_grad=True)\n",
      "Parameter containing:\n",
      "tensor([[0.5116, 0.7104, 0.1747, 0.3194, 0.7265, 0.1114, 0.3862, 0.6622]],\n",
      "       requires_grad=True)\n",
      "Parameter containing:\n",
      "tensor([0.6361], requires_grad=True)\n"
     ]
    }
   ],
   "source": [
    "# New data\n",
    "X = torch.randn(100, 64)\n",
    "b = torch.ones(100)\n",
    "\n",
    "# Changed model\n",
    "model = TwoLayerNN()\n",
    "\n",
    "# Everything else is the same\n",
    "mse_loss = torch.nn.MSELoss()\n",
    "optimizer = optim.SGD(model.parameters(), lr=1e-1)\n",
    "epochs = 200\n",
    "for i in range(epochs):\n",
    "    pred_y = model(X)\n",
    "    loss = mse_loss(pred_y, b.reshape(-1, 1))\n",
    "    optimizer.zero_grad()\n",
    "    loss.backward() # This handles all the gradients\n",
    "    optimizer.step()\n",
    "    \n",
    "print(\"Learned model parameters ...\")\n",
    "for parameter in model.parameters():\n",
    "    print(parameter)"
   ]
  },
  {
   "cell_type": "code",
   "execution_count": 33,
   "metadata": {},
   "outputs": [
    {
     "data": {
      "text/plain": [
       "tensor(0.0052, grad_fn=<MseLossBackward0>)"
      ]
     },
     "execution_count": 33,
     "metadata": {},
     "output_type": "execute_result"
    }
   ],
   "source": [
    "mse_loss(model(X), b.reshape(-1, 1))"
   ]
  },
  {
   "cell_type": "code",
   "execution_count": 34,
   "metadata": {},
   "outputs": [
    {
     "data": {
      "text/plain": [
       "tensor([[0.9272],\n",
       "        [0.9206],\n",
       "        [0.9134],\n",
       "        [0.9185],\n",
       "        [0.9267],\n",
       "        [0.9258],\n",
       "        [0.9373],\n",
       "        [0.9296],\n",
       "        [0.9361],\n",
       "        [0.9203],\n",
       "        [0.9385],\n",
       "        [0.9364],\n",
       "        [0.9368],\n",
       "        [0.9282],\n",
       "        [0.9266],\n",
       "        [0.9237],\n",
       "        [0.9463],\n",
       "        [0.9312],\n",
       "        [0.9382],\n",
       "        [0.9325],\n",
       "        [0.9325],\n",
       "        [0.9074],\n",
       "        [0.9219],\n",
       "        [0.9422],\n",
       "        [0.9302],\n",
       "        [0.9345],\n",
       "        [0.9216],\n",
       "        [0.9300],\n",
       "        [0.9429],\n",
       "        [0.9038],\n",
       "        [0.9085],\n",
       "        [0.9456],\n",
       "        [0.9277],\n",
       "        [0.9284],\n",
       "        [0.9351],\n",
       "        [0.9190],\n",
       "        [0.9371],\n",
       "        [0.9195],\n",
       "        [0.9346],\n",
       "        [0.9209],\n",
       "        [0.9061],\n",
       "        [0.9359],\n",
       "        [0.9427],\n",
       "        [0.9299],\n",
       "        [0.9368],\n",
       "        [0.9421],\n",
       "        [0.9372],\n",
       "        [0.9221],\n",
       "        [0.9409],\n",
       "        [0.9202],\n",
       "        [0.9197],\n",
       "        [0.9294],\n",
       "        [0.9419],\n",
       "        [0.9293],\n",
       "        [0.9259],\n",
       "        [0.9360],\n",
       "        [0.9453],\n",
       "        [0.9360],\n",
       "        [0.9141],\n",
       "        [0.9181],\n",
       "        [0.9324],\n",
       "        [0.9334],\n",
       "        [0.9446],\n",
       "        [0.9345],\n",
       "        [0.9362],\n",
       "        [0.9318],\n",
       "        [0.9145],\n",
       "        [0.9449],\n",
       "        [0.9274],\n",
       "        [0.9164],\n",
       "        [0.9204],\n",
       "        [0.9325],\n",
       "        [0.9257],\n",
       "        [0.9375],\n",
       "        [0.8988],\n",
       "        [0.9478],\n",
       "        [0.9416],\n",
       "        [0.9285],\n",
       "        [0.9175],\n",
       "        [0.9182],\n",
       "        [0.9304],\n",
       "        [0.9214],\n",
       "        [0.9418],\n",
       "        [0.9350],\n",
       "        [0.9313],\n",
       "        [0.9128],\n",
       "        [0.9141],\n",
       "        [0.9358],\n",
       "        [0.9380],\n",
       "        [0.9205],\n",
       "        [0.9238],\n",
       "        [0.9253],\n",
       "        [0.9254],\n",
       "        [0.9388],\n",
       "        [0.9464],\n",
       "        [0.9279],\n",
       "        [0.9233],\n",
       "        [0.9030],\n",
       "        [0.9287],\n",
       "        [0.9056]], grad_fn=<SigmoidBackward0>)"
      ]
     },
     "execution_count": 34,
     "metadata": {},
     "output_type": "execute_result"
    }
   ],
   "source": [
    "model(X)"
   ]
  },
  {
   "cell_type": "code",
   "execution_count": 35,
   "metadata": {},
   "outputs": [
    {
     "data": {
      "text/plain": [
       "(tensor(0.8696, grad_fn=<MinBackward1>),\n",
       " tensor(0.9526, grad_fn=<MaxBackward1>),\n",
       " tensor(0.9249, grad_fn=<MeanBackward0>))"
      ]
     },
     "execution_count": 35,
     "metadata": {},
     "output_type": "execute_result"
    }
   ],
   "source": [
    "test_X = torch.randn(1000, 64)\n",
    "test_y = model(test_X).reshape(-1)\n",
    "test_y.min(), test_y.max(), test_y.mean()"
   ]
  },
  {
   "cell_type": "markdown",
   "metadata": {},
   "source": [
    "### Mean-Squared Error Loss\n",
    "\n",
    "As a reminder, minimizing the mean-squared error loss is equivalent to maximizing the conditional density\n",
    "\\begin{align*}\n",
    "p(y) & = \\prod_{i=1}^N p(y_i) \\\\\n",
    "\\end{align*}\n",
    "where\n",
    "1. $p(y_i) = \\mathcal{N}(f(x_i), 1)$\n",
    "2. $f(x; A_1, b_1, A_2, b_2) = \\sigma(A_2 \\sigma(A_1 x + b_1) + b_2)$"
   ]
  },
  {
   "cell_type": "markdown",
   "metadata": {},
   "source": [
    "### Neural Network Zoo\n",
    "\n",
    "1. There are many neural network architectures. (There are also many activation functions.)\n",
    "    - Convolutional neural networks (good for images)\n",
    "    - Transformers (good for text, basically anything at this point)\n",
    "    - Recurrent neural networks (good for sequences)\n",
    "2. In essence, all of these correspond to choosing a matrix A and bias b of a certain shape.\n",
    "3. Each architecture provides an inductive bias that helps the model learn an appropriate representation. In this sense, a fully-connected layer, i.e., dense matrix A provides the least inductive bias."
   ]
  },
  {
   "cell_type": "markdown",
   "metadata": {},
   "source": [
    "### Optional: Understanding how gradients propagate\n",
    "\n",
    "Let's rewrite the original function as\n",
    "\\begin{align*}\n",
    "f(x; A_1, b_1, A_2, b_2) & = \\sigma(y_2) \\\\\n",
    "y_2 & = A_2 \\sigma(y_1) + b_2 \\\\\n",
    "y_1 & = A_1 x + b1\n",
    "\\end{align*}\n",
    "\n",
    "Suppose we are interested in the update to parameter $A_1$ so we compute its gradient\n",
    "\\begin{align*}\n",
    "\\frac{\\partial f}{\\partial A_1} & = \\frac{d\\sigma}{dy_2} \\frac{d y_2}{dy_1} \\frac{d y_1}{dA_1} \\\\\n",
    "\\frac{d y_2}{dy_1} & = A_2 \\frac{d\\sigma}{dy_1} \\\\\n",
    "\\frac{d y_1}{dA_1} & = x\n",
    "\\end{align*}\n",
    "\n",
    "Thus\n",
    "$$\n",
    "\\frac{\\partial f}{\\partial A_1} = \\left( \\frac{d\\sigma}{dy_2}|_{y_2 = A_2 \\sigma(y_1) + b_2} \\right) \\left( A_2 \\frac{d\\sigma}{dy_1}|_{y_1 = A_1 x + b1} \\right) x\n",
    "$$\n"
   ]
  },
  {
   "cell_type": "markdown",
   "metadata": {},
   "source": [
    "## On to Gradient Regression!\n",
    "\n",
    "1. Let $(x_i, (y_i, dy_i/dx_i))_i$ be a dataset.\n",
    "2. Develop a model and a training procedure such that \n",
    "$f_\\theta(x)$ fits $y$ and $\\frac{\\partial}{\\partial x}f_\\theta(x)$ fits $dy_i/dx_i$."
   ]
  },
  {
   "cell_type": "code",
   "execution_count": 36,
   "metadata": {},
   "outputs": [
    {
     "data": {
      "text/plain": [
       "Text(0.5, 1.0, 'Gradient Regression')"
      ]
     },
     "execution_count": 36,
     "metadata": {},
     "output_type": "execute_result"
    },
    {
     "data": {
      "image/png": "[encoded data removed]",
      "text/plain": [
       "<Figure size 640x480 with 1 Axes>"
      ]
     },
     "metadata": {},
     "output_type": "display_data"
    }
   ],
   "source": [
    "# Synthetic functions\n",
    "f = lambda x: x**2\n",
    "grad_f = lambda x: 2*x\n",
    "\n",
    "# Synthetic functions evaluated at xs\n",
    "xs = torch.linspace(-2, 2, 30)\n",
    "ys = torch.tensor([f(x) for x in xs])\n",
    "dy_dxs = torch.tensor([grad_f(x) for x in xs])\n",
    "\n",
    "# Plotting dataset\n",
    "plt.plot(xs, ys, label='f')\n",
    "plt.scatter(xs, ys, label='Train y')\n",
    "\n",
    "# Plot gradients\n",
    "origin = torch.stack([xs, ys])\n",
    "plt.quiver(*origin, np.ones(len(xs)), dy_dxs, label='Train dy/dx')\n",
    "plt.legend(); plt.title('Gradient Regression')"
   ]
  },
  {
   "cell_type": "markdown",
   "metadata": {},
   "source": [
    "### Gradient Regression with Neural Network Linear Regression\n",
    "\n",
    "1. We'll now look at neural networks for the gradient regression problem.\n",
    "2. As always, we should start with the simplest model."
   ]
  },
  {
   "cell_type": "code",
   "execution_count": 39,
   "metadata": {},
   "outputs": [],
   "source": [
    "class GradLinearRegression(nn.Module):\n",
    "    def __init__(self, D: int):\n",
    "        super(GradLinearRegression, self).__init__()\n",
    "        self.weights = nn.Linear(D, 1)\n",
    "\n",
    "    def forward(self, x):\n",
    "        # Notice that we are doing a simple linear transformation here\n",
    "        y = self.weights(x)\n",
    "\n",
    "        # Next we need to take the derivative of the model's prediction w.r.t. x\n",
    "        dy_dx = torch.autograd.grad(\n",
    "            y, # the y value\n",
    "            x, # the value to take the derivative w.r.t.\n",
    "            grad_outputs=torch.ones_like(x), # the shape of the output\n",
    "            create_graph=True,)[0] # PyTorch AD details, we need this since we will\n",
    "                                   # differentiate the function again w.r.t. the parameters\n",
    "        return torch.cat([y, dy_dx], dim=-1)"
   ]
  },
  {
   "cell_type": "code",
   "execution_count": 50,
   "metadata": {},
   "outputs": [
    {
     "data": {
      "text/plain": [
       "tensor([0.6979, 0.5416], grad_fn=<CatBackward0>)"
      ]
     },
     "execution_count": 50,
     "metadata": {},
     "output_type": "execute_result"
    }
   ],
   "source": [
    "# Construct a model and make sure it runs\n",
    "gradModel = GradLinearRegression(1)\n",
    "gradModel(torch.tensor([1.], requires_grad=True))"
   ]
  },
  {
   "cell_type": "markdown",
   "metadata": {},
   "source": [
    "#### Model in mathematical notation\n",
    "\n",
    "The code that we have written corresponds to the model below\n",
    "\\begin{align*}\n",
    "y & = f(x; w; b) = w^T x + b \\\\\n",
    "\\frac{dy}{dx} & = \\nabla_x f(x; w, b) = w\n",
    "\\end{align*}\n",
    "\n",
    "As a reminder, we are using AD to obtain the gradient of the model w.r.t. the input x."
   ]
  },
  {
   "cell_type": "code",
   "execution_count": 51,
   "metadata": {},
   "outputs": [],
   "source": [
    "mse_loss = torch.nn.MSELoss()\n",
    "def gradreg_loss(x, y):\n",
    "    return mse_loss(x[:,0], y[:,0]) + mse_loss(x[:,1:], y[:,1:])"
   ]
  },
  {
   "cell_type": "code",
   "execution_count": 52,
   "metadata": {},
   "outputs": [],
   "source": [
    "# Create model\n",
    "gradModel = GradLinearRegression(1)\n",
    "\n",
    "# Reshape training data\n",
    "train_X = xs.reshape(-1, 1).requires_grad_()\n",
    "train_y = torch.tensor([(ys[i], dy_dxs[i]) for i in range(len(ys))])\n",
    "\n",
    "# Setup optimizer\n",
    "optimizer = optim.SGD(gradModel.parameters(), lr=1e-1)\n",
    "epochs = 200\n",
    "for i in range(epochs):\n",
    "    # Compute loss\n",
    "    pred_y = gradModel(train_X)\n",
    "    loss = gradreg_loss(pred_y, train_y)\n",
    "\n",
    "    # Optimization step\n",
    "    optimizer.zero_grad()\n",
    "    loss.backward()\n",
    "    optimizer.step()"
   ]
  },
  {
   "cell_type": "code",
   "execution_count": 53,
   "metadata": {},
   "outputs": [
    {
     "name": "stdout",
     "output_type": "stream",
     "text": [
      "Learned model parameters ...\n",
      "Parameter containing:\n",
      "tensor([[-6.8584e-08]], requires_grad=True)\n",
      "Parameter containing:\n",
      "tensor([1.4253], requires_grad=True)\n"
     ]
    }
   ],
   "source": [
    "print(\"Learned model parameters ...\")\n",
    "for parameter in gradModel.parameters():\n",
    "    print(parameter)"
   ]
  },
  {
   "cell_type": "code",
   "execution_count": 54,
   "metadata": {},
   "outputs": [
    {
     "data": {
      "text/plain": [
       "Text(0.5, 1.0, 'Gradient Regression')"
      ]
     },
     "execution_count": 54,
     "metadata": {},
     "output_type": "execute_result"
    },
    {
     "data": {
      "image/png": "[encoded data removed]",
      "text/plain": [
       "<Figure size 640x480 with 1 Axes>"
      ]
     },
     "metadata": {},
     "output_type": "display_data"
    }
   ],
   "source": [
    "# Plotting dataset\n",
    "plt.plot(xs, ys, label='f')\n",
    "plt.scatter(xs, ys, label='Train y')\n",
    "plt.plot(xs, [gradModel(torch.tensor([x], requires_grad=True)).detach()[0] for x in xs], label='Prediction')\n",
    "\n",
    "# Plot gradients\n",
    "origin = torch.stack([xs, ys])\n",
    "plt.quiver(*origin, np.ones(len(xs)), dy_dxs, label='Train dy/dx')\n",
    "plt.legend(); plt.title('Gradient Regression')"
   ]
  },
  {
   "cell_type": "markdown",
   "metadata": {},
   "source": [
    "### Summary\n",
    "\n",
    "1. We had a gentle introduction to neural networks.\n",
    "2. We saw how to use the PyTorch library to replicate all the simple models we have seen in class.\n",
    "3. We encoded the gradient regression problem as a neural network in PyTorch."
   ]
  },
  {
   "cell_type": "markdown",
   "metadata": {},
   "source": [
    "## SchNet: A continuous-filter convolutional neural network for modeling quantum interactions\n",
    "\n",
    "1. Paper: [https://arxiv.org/pdf/1706.08566.pdf](https://arxiv.org/pdf/1706.08566.pdf).\n",
    "2. We now have tools we need to dive into research on how to construct neural networks for quantum chemistry.\n",
    "3. These neural networks try to replicate the PES of a molecular system."
   ]
  },
  {
   "cell_type": "markdown",
   "metadata": {},
   "source": [
    "### How to read research paper?\n",
    "\n",
    "1. Read the **abstract** to figure out what problem the paper is addressing and what the conclusions are.\n",
    "2. Read the **introduction** to figure out what problem the paper is addressing.\n",
    "3. Read the **conclusion** to figure out what the solution to the problem is.\n",
    "4. Read the **experiments** to figure out how they justify their conclusions with quantifiable metrics.\n",
    "5. If the paper is still interesting, read the **methods** to figure out what they actually did. In this case, it useful to look for code: [https://pytorch-geometric.readthedocs.io/en/latest/_modules/torch_geometric/nn/models/schnet.html](https://pytorch-geometric.readthedocs.io/en/latest/_modules/torch_geometric/nn/models/schnet.html)"
   ]
  },
  {
   "cell_type": "markdown",
   "metadata": {},
   "source": [
    "### Abstract\n",
    "\n",
    "1. Develop a new neural network architecture that modifies a convolutional neural network to work with atoms.\n",
    "2. Develop a model called Schnet that models a PES.\n",
    "3. Benchmark models on tasks that identify limitations."
   ]
  },
  {
   "cell_type": "markdown",
   "metadata": {},
   "source": [
    "### Introduction\n",
    "\n",
    "From the paper:\n",
    "1. We propose continuous-filter convolutional (cfconv) layers as a means to move beyond\n",
    "grid-bound data such as images or audio towards modeling objects with arbitrary positions\n",
    "such as astronomical observations or atoms in molecules and materials.\n",
    "2. We propose SchNet: a neural network specifically designed to respect essential quantumchemical constraints. In particular, we use the proposed cfconv layers in R3 to model\n",
    "interactions of atoms at arbitrary positions in the molecule. SchNet delivers both rotationally\n",
    "invariant energy prediction and rotationally equivariant force predictions. We obtain a\n",
    "smooth potential energy surface and the resulting force-field is guaranteed to be energyconserving.\n",
    "3. We present a new, challenging benchmark – ISO17 – including both chemical and conformational changes. We show that training with forces improves generalization in this setting\n",
    "as well."
   ]
  },
  {
   "cell_type": "markdown",
   "metadata": {},
   "source": [
    "### Conclusion\n",
    "\n",
    "1. The architecture works: \"We have developed SchNet to demonstrate the capabilities of continuous-filter convolutional layers in the context of modeling quantum interactions in molecules. Our architecture respects quantum-chemical constraints such as rotationally invariant energy predictions as well as rotationally equivariant, energy-conserving\n",
    "force predictions.\"\n",
    "2. A sequence of tasks: chemical degrees of freedom, conformational degrees of freedom, chemical and conformational degrees of freedom. \"We have evaluated our model in three increasingly challenging experimental settings. Each brings us one step closer to practical chemical exploration driven by machine learning. SchNet improves the state-of-the-art in predicting energies for molecules in equilibrium of the QM9 benchmark. Beyond that, it achieves accurate predictions for energies and forces for all molecular dynamics trajectories in MD17. Finally, we have introduced ISO17 consisting of 645,000 conformations of various C7O2H10 isomers. While we achieve promising results on this new benchmark, modeling chemical and\n",
    "conformational variations remains difficult and needs further improvement. For this reason, we expect\n",
    "that ISO17 will become a new standard benchmark for modeling quantum interactions with machine\n",
    "learning.\""
   ]
  },
  {
   "cell_type": "markdown",
   "metadata": {},
   "source": [
    "### Experiments\n",
    "\n",
    "Tasks in increasing order of difficulty\n",
    "1. Chemical degress of freedom: QM9 dataset\n",
    "2. Conformational degrees of freedom: MD17 dataset\n",
    "3. Chemical and conformational degrees of freedom: ISO 17 dataset"
   ]
  },
  {
   "cell_type": "markdown",
   "metadata": {},
   "source": [
    "#### Chemical Degrees of Freedom\n",
    "\n",
    "1. All molecules are at equilibrium\n",
    "2. We are trying to predict energy (since force is 0)\n",
    "\n",
    "![table1.png](./table1.png)\n"
   ]
  },
  {
   "cell_type": "markdown",
   "metadata": {},
   "source": [
    "#### Conformational Degrees of Freedom\n",
    "\n",
    "1. We take different geometries of the same molecule.\n",
    "2. We are trying to predict energy and force. This is the gradient regression setting.\n",
    "\n",
    "![table2.png](./table2.png)\n"
   ]
  },
  {
   "cell_type": "markdown",
   "metadata": {},
   "source": [
    "#### Chemical and Conformational Degrees of Freedom\n",
    "\n",
    "1. We vary the molecules and the geometries of the molecules.\n",
    "2. We try to predict the energy and the force.\n",
    "3. Clearly this is the hardest task since we need to transfer knowledge from one molecule to a different one.\n",
    "\n",
    "![table3.png](./table3.png)\n"
   ]
  },
  {
   "cell_type": "markdown",
   "metadata": {},
   "source": [
    "### Methods\n",
    "\n",
    "1. Now that we know that we know what problems the paper is addressing, what the conclusions are, and what the experiments that justify those conclusions looks like, we can dive into the methods.\n",
    "2. This is where it's important to get hands on and get code! [https://pytorch-geometric.readthedocs.io/en/latest/_modules/torch_geometric/nn/models/schnet.html](https://pytorch-geometric.readthedocs.io/en/latest/_modules/torch_geometric/nn/models/schnet.html)"
   ]
  },
  {
   "cell_type": "markdown",
   "metadata": {},
   "source": [
    "#### Demonstration\n",
    "\n",
    "```py\n",
    "python train_schnet.py\n",
    "```"
   ]
  },
  {
   "cell_type": "markdown",
   "metadata": {},
   "source": [
    "#### Continuous-Filter Convolution\n",
    "\n",
    "![cfc.png](cfc.png)"
   ]
  },
  {
   "cell_type": "code",
   "execution_count": 68,
   "metadata": {},
   "outputs": [],
   "source": [
    "from torch import Tensor\n",
    "from torch.nn import Sequential  # Used for sequencing layers\n",
    "from torch_geometric.nn import MessagePassing  # PyTorch graph neural network package\n",
    "\n",
    "# Continuous-filter convolutions, section 3 of paper\n",
    "class CFConv(MessagePassing):\n",
    "    def __init__(self, in_channels: int, out_channels: int, num_filters: int,\n",
    "                 nn: Sequential, cutoff: float):\n",
    "        super().__init__(aggr='add')\n",
    "\n",
    "        # Parameters\n",
    "        self.lin1 = Linear(in_channels, num_filters, bias=False)  # D x l\n",
    "        self.lin2 = Linear(num_filters, out_channels)             # l x F\n",
    "        self.nn = nn                                              # Sequence\n",
    "        \n",
    "        self.cutoff = cutoff\n",
    "        \n",
    "        self.reset_parameters()\n",
    "\n",
    "    def forward(self, x: Tensor, edge_index: Tensor, edge_weight: Tensor,\n",
    "                edge_attr: Tensor) -> Tensor:\n",
    "        # THe implementation of the layer\n",
    "        C = 0.5 * (torch.cos(edge_weight * PI / self.cutoff) + 1.0)\n",
    "        W = self.nn(edge_attr) * C.view(-1, 1)\n",
    "\n",
    "        x = self.lin1(x)\n",
    "        x = self.propagate(edge_index, x=x, W=W)\n",
    "        x = self.lin2(x)\n",
    "        return x\n",
    "\n",
    "    def message(self, x_j: Tensor, W: Tensor) -> Tensor:\n",
    "        return x_j * W\n",
    "\n",
    "    def reset_parameters(self):\n",
    "        torch.nn.init.xavier_uniform_(self.lin1.weight)\n",
    "        torch.nn.init.xavier_uniform_(self.lin2.weight)\n",
    "        self.lin2.bias.data.fill_(0)"
   ]
  },
  {
   "cell_type": "markdown",
   "metadata": {},
   "source": [
    "#### Training with Energies and Forces\n",
    "\n",
    "![ef.png](ef.png)"
   ]
  },
  {
   "cell_type": "markdown",
   "metadata": {},
   "source": [
    "Excerpt from Schnet model\n",
    "```py\n",
    "    def forward(self, data):\n",
    "        z = data[\"z\"]\n",
    "        pos = data[\"R\"]\n",
    "        batch = data[\"batch\"]\n",
    "\n",
    "        if self.regress_forces:\n",
    "            pos.requires_grad_(True)\n",
    "\n",
    "        energy = super(SchNetWrap, self).forward(z, pos, batch=batch)\n",
    "\n",
    "        if self.regress_forces:\n",
    "            # This is where we are predicting the force by taking the gradient\n",
    "            # w.r.t. the model\n",
    "            forces = -1*(torch.autograd.grad(energy, pos, grad_outputs=torch.ones_like(energy), create_graph=True,)[0])\n",
    "            return {\"E\":energy, \"F\":forces}\n",
    "        else:\n",
    "            return {\"E\":energy}\n",
    "```"
   ]
  },
  {
   "cell_type": "markdown",
   "metadata": {},
   "source": [
    "#### Loss Function\n",
    "\n",
    "![loss.png](loss.png)"
   ]
  },
  {
   "cell_type": "markdown",
   "metadata": {},
   "source": [
    "Excerpt from code\n",
    "```py\n",
    "def EnergyLoss(pred, label):\n",
    "    p, l = pred[\"E\"].squeeze(), label[\"E\"].squeeze()\n",
    "    mae = torch.nn.L1Loss()  # note that this is MAE and not MSE!\n",
    "    return mae(p, l)\n",
    "\n",
    "def AtomForceLoss(pred, label):\n",
    "    p, l = pred[\"F\"].squeeze(), label[\"F\"].squeeze()\n",
    "    p = p.reshape((-1, 3))\n",
    "    l = l.reshape((-1, 3))\n",
    "    mae = torch.nn.L1Loss()  # note that this is MAE and not MSE!\n",
    "    return torch.Tensor([mae(p[i], l[i]) for i in range(len(p))])\n",
    "\n",
    "def EnergyForceLoss(pred, label):\n",
    "    E = EnergyLoss(pred, label)\n",
    "    F = AtomForceLoss(pred, label)\n",
    "    return E + 30*torch.mean(F)\n",
    "```"
   ]
  },
  {
   "cell_type": "markdown",
   "metadata": {},
   "source": [
    "### Summary\n",
    "\n",
    "1. We saw how to map parts of the paper to an actual implementation.\n",
    "2. In particular, the implementation and the paper didn't exactly match up. This is because the code is the \"ground truth\" and has evolved since the paper was published. This is why we always emphasize the code.\n",
    "3. We hopefully began to see how the fundamentals we've been learning are at play in the context of real research in this field."
   ]
  },
  {
   "cell_type": "markdown",
   "metadata": {},
   "source": []
  }
 ],
 "metadata": {
  "kernelspec": {
   "display_name": "Python 3 (ipykernel)",
   "language": "python",
   "name": "python3"
  },
  "language_info": {
   "codemirror_mode": {
    "name": "ipython",
    "version": 3
   },
   "file_extension": ".py",
   "mimetype": "text/x-python",
   "name": "python",
   "nbconvert_exporter": "python",
   "pygments_lexer": "ipython3",
   "version": "3.10.6"
  }
 },
 "nbformat": 4,
 "nbformat_minor": 2
}
